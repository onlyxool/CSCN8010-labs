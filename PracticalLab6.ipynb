{
 "cells": [
  {
   "cell_type": "markdown",
   "metadata": {},
   "source": [
    "# Practical Lab 6 - Logistic Regression\n",
    "**Name: Chen, Kun**<br/>\n",
    "**ID: 8977010**"
   ]
  },
  {
   "cell_type": "code",
   "execution_count": 62,
   "metadata": {},
   "outputs": [],
   "source": [
    "import numpy as np\n",
    "import pandas as pd\n",
    "import seaborn as sns\n",
    "from sklearn import datasets\n",
    "import matplotlib.pyplot as plt\n",
    "import plotly.graph_objects as go\n",
    "from sklearn.linear_model import LogisticRegression\n",
    "from sklearn.model_selection import train_test_split\n",
    "\n",
    "import warnings\n",
    "warnings.filterwarnings('ignore')"
   ]
  },
  {
   "cell_type": "markdown",
   "metadata": {},
   "source": [
    "### 0. Load iris dataset"
   ]
  },
  {
   "cell_type": "code",
   "execution_count": 63,
   "metadata": {},
   "outputs": [
    {
     "data": {
      "text/html": [
       "<div>\n",
       "<style scoped>\n",
       "    .dataframe tbody tr th:only-of-type {\n",
       "        vertical-align: middle;\n",
       "    }\n",
       "\n",
       "    .dataframe tbody tr th {\n",
       "        vertical-align: top;\n",
       "    }\n",
       "\n",
       "    .dataframe thead th {\n",
       "        text-align: right;\n",
       "    }\n",
       "</style>\n",
       "<table border=\"1\" class=\"dataframe\">\n",
       "  <thead>\n",
       "    <tr style=\"text-align: right;\">\n",
       "      <th></th>\n",
       "      <th>sepal length (cm)</th>\n",
       "      <th>sepal width (cm)</th>\n",
       "      <th>petal length (cm)</th>\n",
       "      <th>petal width (cm)</th>\n",
       "      <th>target</th>\n",
       "      <th>target_names</th>\n",
       "    </tr>\n",
       "  </thead>\n",
       "  <tbody>\n",
       "    <tr>\n",
       "      <th>0</th>\n",
       "      <td>5.1</td>\n",
       "      <td>3.5</td>\n",
       "      <td>1.4</td>\n",
       "      <td>0.2</td>\n",
       "      <td>0</td>\n",
       "      <td>non-virginica</td>\n",
       "    </tr>\n",
       "    <tr>\n",
       "      <th>1</th>\n",
       "      <td>4.9</td>\n",
       "      <td>3.0</td>\n",
       "      <td>1.4</td>\n",
       "      <td>0.2</td>\n",
       "      <td>0</td>\n",
       "      <td>non-virginica</td>\n",
       "    </tr>\n",
       "    <tr>\n",
       "      <th>2</th>\n",
       "      <td>4.7</td>\n",
       "      <td>3.2</td>\n",
       "      <td>1.3</td>\n",
       "      <td>0.2</td>\n",
       "      <td>0</td>\n",
       "      <td>non-virginica</td>\n",
       "    </tr>\n",
       "    <tr>\n",
       "      <th>3</th>\n",
       "      <td>4.6</td>\n",
       "      <td>3.1</td>\n",
       "      <td>1.5</td>\n",
       "      <td>0.2</td>\n",
       "      <td>0</td>\n",
       "      <td>non-virginica</td>\n",
       "    </tr>\n",
       "    <tr>\n",
       "      <th>4</th>\n",
       "      <td>5.0</td>\n",
       "      <td>3.6</td>\n",
       "      <td>1.4</td>\n",
       "      <td>0.2</td>\n",
       "      <td>0</td>\n",
       "      <td>non-virginica</td>\n",
       "    </tr>\n",
       "  </tbody>\n",
       "</table>\n",
       "</div>"
      ],
      "text/plain": [
       "   sepal length (cm)  sepal width (cm)  petal length (cm)  petal width (cm)  \\\n",
       "0                5.1               3.5                1.4               0.2   \n",
       "1                4.9               3.0                1.4               0.2   \n",
       "2                4.7               3.2                1.3               0.2   \n",
       "3                4.6               3.1                1.5               0.2   \n",
       "4                5.0               3.6                1.4               0.2   \n",
       "\n",
       "   target   target_names  \n",
       "0       0  non-virginica  \n",
       "1       0  non-virginica  \n",
       "2       0  non-virginica  \n",
       "3       0  non-virginica  \n",
       "4       0  non-virginica  "
      ]
     },
     "execution_count": 63,
     "metadata": {},
     "output_type": "execute_result"
    }
   ],
   "source": [
    "iris = datasets.load_iris()\n",
    "\n",
    "iris_dataframe = pd.DataFrame(iris.data,  columns=iris.feature_names)\n",
    "iris_dataframe['target'] = iris.target\n",
    "target_names = {\n",
    "    0:'non-virginica',\n",
    "    1:'non-virginica', \n",
    "    2:'virginica'\n",
    "}\n",
    "iris_dataframe['target_names'] = iris_dataframe['target'].map(target_names)\n",
    "iris_dataframe.head()"
   ]
  },
  {
   "cell_type": "markdown",
   "metadata": {},
   "source": [
    "### 1. Check that the dataset contains invalid data, outlier and drop the duplicate data items"
   ]
  },
  {
   "cell_type": "code",
   "execution_count": 64,
   "metadata": {},
   "outputs": [
    {
     "name": "stdout",
     "output_type": "stream",
     "text": [
      "<class 'pandas.core.frame.DataFrame'>\n",
      "RangeIndex: 150 entries, 0 to 149\n",
      "Data columns (total 6 columns):\n",
      " #   Column             Non-Null Count  Dtype  \n",
      "---  ------             --------------  -----  \n",
      " 0   sepal length (cm)  150 non-null    float64\n",
      " 1   sepal width (cm)   150 non-null    float64\n",
      " 2   petal length (cm)  150 non-null    float64\n",
      " 3   petal width (cm)   150 non-null    float64\n",
      " 4   target             150 non-null    int32  \n",
      " 5   target_names       150 non-null    object \n",
      "dtypes: float64(4), int32(1), object(1)\n",
      "memory usage: 6.6+ KB\n"
     ]
    }
   ],
   "source": [
    "iris_dataframe.info()"
   ]
  },
  {
   "cell_type": "markdown",
   "metadata": {},
   "source": [
    "According to the following figure, we can see that the data distribution is good, there are not too many outlier."
   ]
  },
  {
   "cell_type": "code",
   "execution_count": 65,
   "metadata": {},
   "outputs": [
    {
     "data": {
      "image/png": "[encoded data removed]",
      "text/plain": [
       "<Figure size 1000x800 with 9 Axes>"
      ]
     },
     "metadata": {},
     "output_type": "display_data"
    }
   ],
   "source": [
    "iris_dataframe[['sepal length (cm)', 'sepal width (cm)', 'petal length (cm)', 'petal width (cm)']] \\\n",
    "    .plot(kind='box', subplots=True, layout=(3, 3), figsize=(10, 8))\n",
    "plt.show()"
   ]
  },
  {
   "cell_type": "markdown",
   "metadata": {},
   "source": [
    "### 2. Print descriptive statistics of two classes"
   ]
  },
  {
   "cell_type": "code",
   "execution_count": 66,
   "metadata": {},
   "outputs": [
    {
     "data": {
      "text/html": [
       "<div>\n",
       "<style scoped>\n",
       "    .dataframe tbody tr th:only-of-type {\n",
       "        vertical-align: middle;\n",
       "    }\n",
       "\n",
       "    .dataframe tbody tr th {\n",
       "        vertical-align: top;\n",
       "    }\n",
       "\n",
       "    .dataframe thead th {\n",
       "        text-align: right;\n",
       "    }\n",
       "</style>\n",
       "<table border=\"1\" class=\"dataframe\">\n",
       "  <thead>\n",
       "    <tr style=\"text-align: right;\">\n",
       "      <th></th>\n",
       "      <th>target_names</th>\n",
       "      <th>non-virginica</th>\n",
       "      <th>virginica</th>\n",
       "    </tr>\n",
       "  </thead>\n",
       "  <tbody>\n",
       "    <tr>\n",
       "      <th rowspan=\"8\" valign=\"top\">sepal length (cm)</th>\n",
       "      <th>count</th>\n",
       "      <td>100.000000</td>\n",
       "      <td>50.000000</td>\n",
       "    </tr>\n",
       "    <tr>\n",
       "      <th>mean</th>\n",
       "      <td>5.471000</td>\n",
       "      <td>6.588000</td>\n",
       "    </tr>\n",
       "    <tr>\n",
       "      <th>std</th>\n",
       "      <td>0.641698</td>\n",
       "      <td>0.635880</td>\n",
       "    </tr>\n",
       "    <tr>\n",
       "      <th>min</th>\n",
       "      <td>4.300000</td>\n",
       "      <td>4.900000</td>\n",
       "    </tr>\n",
       "    <tr>\n",
       "      <th>25%</th>\n",
       "      <td>5.000000</td>\n",
       "      <td>6.225000</td>\n",
       "    </tr>\n",
       "    <tr>\n",
       "      <th>50%</th>\n",
       "      <td>5.400000</td>\n",
       "      <td>6.500000</td>\n",
       "    </tr>\n",
       "    <tr>\n",
       "      <th>75%</th>\n",
       "      <td>5.900000</td>\n",
       "      <td>6.900000</td>\n",
       "    </tr>\n",
       "    <tr>\n",
       "      <th>max</th>\n",
       "      <td>7.000000</td>\n",
       "      <td>7.900000</td>\n",
       "    </tr>\n",
       "    <tr>\n",
       "      <th rowspan=\"8\" valign=\"top\">sepal width (cm)</th>\n",
       "      <th>count</th>\n",
       "      <td>100.000000</td>\n",
       "      <td>50.000000</td>\n",
       "    </tr>\n",
       "    <tr>\n",
       "      <th>mean</th>\n",
       "      <td>3.099000</td>\n",
       "      <td>2.974000</td>\n",
       "    </tr>\n",
       "    <tr>\n",
       "      <th>std</th>\n",
       "      <td>0.478739</td>\n",
       "      <td>0.322497</td>\n",
       "    </tr>\n",
       "    <tr>\n",
       "      <th>min</th>\n",
       "      <td>2.000000</td>\n",
       "      <td>2.200000</td>\n",
       "    </tr>\n",
       "    <tr>\n",
       "      <th>25%</th>\n",
       "      <td>2.800000</td>\n",
       "      <td>2.800000</td>\n",
       "    </tr>\n",
       "    <tr>\n",
       "      <th>50%</th>\n",
       "      <td>3.050000</td>\n",
       "      <td>3.000000</td>\n",
       "    </tr>\n",
       "    <tr>\n",
       "      <th>75%</th>\n",
       "      <td>3.400000</td>\n",
       "      <td>3.175000</td>\n",
       "    </tr>\n",
       "    <tr>\n",
       "      <th>max</th>\n",
       "      <td>4.400000</td>\n",
       "      <td>3.800000</td>\n",
       "    </tr>\n",
       "    <tr>\n",
       "      <th rowspan=\"8\" valign=\"top\">petal length (cm)</th>\n",
       "      <th>count</th>\n",
       "      <td>100.000000</td>\n",
       "      <td>50.000000</td>\n",
       "    </tr>\n",
       "    <tr>\n",
       "      <th>mean</th>\n",
       "      <td>2.861000</td>\n",
       "      <td>5.552000</td>\n",
       "    </tr>\n",
       "    <tr>\n",
       "      <th>std</th>\n",
       "      <td>1.449549</td>\n",
       "      <td>0.551895</td>\n",
       "    </tr>\n",
       "    <tr>\n",
       "      <th>min</th>\n",
       "      <td>1.000000</td>\n",
       "      <td>4.500000</td>\n",
       "    </tr>\n",
       "    <tr>\n",
       "      <th>25%</th>\n",
       "      <td>1.500000</td>\n",
       "      <td>5.100000</td>\n",
       "    </tr>\n",
       "    <tr>\n",
       "      <th>50%</th>\n",
       "      <td>2.450000</td>\n",
       "      <td>5.550000</td>\n",
       "    </tr>\n",
       "    <tr>\n",
       "      <th>75%</th>\n",
       "      <td>4.325000</td>\n",
       "      <td>5.875000</td>\n",
       "    </tr>\n",
       "    <tr>\n",
       "      <th>max</th>\n",
       "      <td>5.100000</td>\n",
       "      <td>6.900000</td>\n",
       "    </tr>\n",
       "    <tr>\n",
       "      <th rowspan=\"8\" valign=\"top\">petal width (cm)</th>\n",
       "      <th>count</th>\n",
       "      <td>100.000000</td>\n",
       "      <td>50.000000</td>\n",
       "    </tr>\n",
       "    <tr>\n",
       "      <th>mean</th>\n",
       "      <td>0.786000</td>\n",
       "      <td>2.026000</td>\n",
       "    </tr>\n",
       "    <tr>\n",
       "      <th>std</th>\n",
       "      <td>0.565153</td>\n",
       "      <td>0.274650</td>\n",
       "    </tr>\n",
       "    <tr>\n",
       "      <th>min</th>\n",
       "      <td>0.100000</td>\n",
       "      <td>1.400000</td>\n",
       "    </tr>\n",
       "    <tr>\n",
       "      <th>25%</th>\n",
       "      <td>0.200000</td>\n",
       "      <td>1.800000</td>\n",
       "    </tr>\n",
       "    <tr>\n",
       "      <th>50%</th>\n",
       "      <td>0.800000</td>\n",
       "      <td>2.000000</td>\n",
       "    </tr>\n",
       "    <tr>\n",
       "      <th>75%</th>\n",
       "      <td>1.300000</td>\n",
       "      <td>2.300000</td>\n",
       "    </tr>\n",
       "    <tr>\n",
       "      <th>max</th>\n",
       "      <td>1.800000</td>\n",
       "      <td>2.500000</td>\n",
       "    </tr>\n",
       "    <tr>\n",
       "      <th rowspan=\"8\" valign=\"top\">target</th>\n",
       "      <th>count</th>\n",
       "      <td>100.000000</td>\n",
       "      <td>50.000000</td>\n",
       "    </tr>\n",
       "    <tr>\n",
       "      <th>mean</th>\n",
       "      <td>0.500000</td>\n",
       "      <td>2.000000</td>\n",
       "    </tr>\n",
       "    <tr>\n",
       "      <th>std</th>\n",
       "      <td>0.502519</td>\n",
       "      <td>0.000000</td>\n",
       "    </tr>\n",
       "    <tr>\n",
       "      <th>min</th>\n",
       "      <td>0.000000</td>\n",
       "      <td>2.000000</td>\n",
       "    </tr>\n",
       "    <tr>\n",
       "      <th>25%</th>\n",
       "      <td>0.000000</td>\n",
       "      <td>2.000000</td>\n",
       "    </tr>\n",
       "    <tr>\n",
       "      <th>50%</th>\n",
       "      <td>0.500000</td>\n",
       "      <td>2.000000</td>\n",
       "    </tr>\n",
       "    <tr>\n",
       "      <th>75%</th>\n",
       "      <td>1.000000</td>\n",
       "      <td>2.000000</td>\n",
       "    </tr>\n",
       "    <tr>\n",
       "      <th>max</th>\n",
       "      <td>1.000000</td>\n",
       "      <td>2.000000</td>\n",
       "    </tr>\n",
       "  </tbody>\n",
       "</table>\n",
       "</div>"
      ],
      "text/plain": [
       "target_names             non-virginica  virginica\n",
       "sepal length (cm) count     100.000000  50.000000\n",
       "                  mean        5.471000   6.588000\n",
       "                  std         0.641698   0.635880\n",
       "                  min         4.300000   4.900000\n",
       "                  25%         5.000000   6.225000\n",
       "                  50%         5.400000   6.500000\n",
       "                  75%         5.900000   6.900000\n",
       "                  max         7.000000   7.900000\n",
       "sepal width (cm)  count     100.000000  50.000000\n",
       "                  mean        3.099000   2.974000\n",
       "                  std         0.478739   0.322497\n",
       "                  min         2.000000   2.200000\n",
       "                  25%         2.800000   2.800000\n",
       "                  50%         3.050000   3.000000\n",
       "                  75%         3.400000   3.175000\n",
       "                  max         4.400000   3.800000\n",
       "petal length (cm) count     100.000000  50.000000\n",
       "                  mean        2.861000   5.552000\n",
       "                  std         1.449549   0.551895\n",
       "                  min         1.000000   4.500000\n",
       "                  25%         1.500000   5.100000\n",
       "                  50%         2.450000   5.550000\n",
       "                  75%         4.325000   5.875000\n",
       "                  max         5.100000   6.900000\n",
       "petal width (cm)  count     100.000000  50.000000\n",
       "                  mean        0.786000   2.026000\n",
       "                  std         0.565153   0.274650\n",
       "                  min         0.100000   1.400000\n",
       "                  25%         0.200000   1.800000\n",
       "                  50%         0.800000   2.000000\n",
       "                  75%         1.300000   2.300000\n",
       "                  max         1.800000   2.500000\n",
       "target            count     100.000000  50.000000\n",
       "                  mean        0.500000   2.000000\n",
       "                  std         0.502519   0.000000\n",
       "                  min         0.000000   2.000000\n",
       "                  25%         0.000000   2.000000\n",
       "                  50%         0.500000   2.000000\n",
       "                  75%         1.000000   2.000000\n",
       "                  max         1.000000   2.000000"
      ]
     },
     "execution_count": 66,
     "metadata": {},
     "output_type": "execute_result"
    }
   ],
   "source": [
    "iris_dataframe.groupby('target_names').describe().transpose()"
   ]
  },
  {
   "cell_type": "markdown",
   "metadata": {},
   "source": [
    "### 3. Plot histogram per feature for each of tow classes\n",
    "Based on the distribution of virginica and non-virginica across features, it can be seen that virginica and non-virginica are very different across features"
   ]
  },
  {
   "cell_type": "code",
   "execution_count": 67,
   "metadata": {},
   "outputs": [
    {
     "data": {
      "image/png": "[encoded data removed]",
      "text/plain": [
       "<Figure size 640x480 with 1 Axes>"
      ]
     },
     "metadata": {},
     "output_type": "display_data"
    },
    {
     "data": {
      "image/png": "[encoded data removed]",
      "text/plain": [
       "<Figure size 640x480 with 1 Axes>"
      ]
     },
     "metadata": {},
     "output_type": "display_data"
    },
    {
     "data": {
      "image/png": "[encoded data removed]",
      "text/plain": [
       "<Figure size 640x480 with 1 Axes>"
      ]
     },
     "metadata": {},
     "output_type": "display_data"
    },
    {
     "data": {
      "image/png": "[encoded data removed]",
      "text/plain": [
       "<Figure size 640x480 with 1 Axes>"
      ]
     },
     "metadata": {},
     "output_type": "display_data"
    }
   ],
   "source": [
    "sns.histplot(data=iris_dataframe, x=\"sepal length (cm)\", hue=\"target_names\", bins=10, kde=True, element=\"step\")\n",
    "plt.title(\"Sepal Length Distribution\")\n",
    "plt.xlabel(\"Sepal Length\")\n",
    "plt.ylabel(\"Frequency\")\n",
    "plt.show()\n",
    "\n",
    "sns.histplot(data=iris_dataframe, x=\"sepal width (cm)\", hue=\"target_names\", bins=10, kde=True, element=\"step\")\n",
    "plt.title(\"Sepal Width Distribution\")\n",
    "plt.xlabel(\"Sepal Width\")\n",
    "plt.ylabel(\"Frequency\")\n",
    "plt.show()\n",
    "\n",
    "sns.histplot(data=iris_dataframe, x=\"petal length (cm)\", hue=\"target_names\", bins=10, kde=True, element=\"step\")\n",
    "plt.title(\"Petal Length Distribution\")\n",
    "plt.xlabel(\"Petal Length\")\n",
    "plt.ylabel(\"Frequency\")\n",
    "plt.show()\n",
    "\n",
    "sns.histplot(data=iris_dataframe, x=\"petal width (cm)\", hue=\"target_names\", bins=10, kde=True, element=\"step\")\n",
    "plt.title(\"Petal Width Distribution\")\n",
    "plt.xlabel(\"Petal Width\")\n",
    "plt.ylabel(\"Frequency\")\n",
    "plt.show()"
   ]
  },
  {
   "cell_type": "markdown",
   "metadata": {},
   "source": [
    "### 4. Correlation matrix between the four features\n",
    "The length and width correlation for petal is very high at 0.96. The length and width band for sepal is believed to be extremely low."
   ]
  },
  {
   "cell_type": "code",
   "execution_count": 68,
   "metadata": {},
   "outputs": [
    {
     "data": {
      "image/png": "[encoded data removed]",
      "text/plain": [
       "<Figure size 640x480 with 2 Axes>"
      ]
     },
     "metadata": {},
     "output_type": "display_data"
    }
   ],
   "source": [
    "correlation_matrix = iris_dataframe[['sepal length (cm)', 'sepal width (cm)', 'petal length (cm)', 'petal width (cm)']].corr()\n",
    "\n",
    "sns.heatmap(correlation_matrix, annot=True, cmap='coolwarm', fmt=\".2f\", linewidths=0.5)\n",
    "plt.title('Correlation Matrix between the Four Features')\n",
    "plt.show()"
   ]
  },
  {
   "cell_type": "markdown",
   "metadata": {},
   "source": [
    "### 5. Use seaborn's FacetGrid to color the scatterplot by species\n",
    "According to the picture below we can seen that virginica has a more elongated sepal shape based on the value of the sepal's height to width ratio. This is an important distinction between virginica and non-virginica. <br/>\n",
    "refe: https://www.kaggle.com/code/palak98039/python-data-visualizations"
   ]
  },
  {
   "cell_type": "code",
   "execution_count": 69,
   "metadata": {},
   "outputs": [
    {
     "data": {
      "image/png": "[encoded data removed]",
      "text/plain": [
       "<Figure size 639.75x500 with 1 Axes>"
      ]
     },
     "metadata": {},
     "output_type": "display_data"
    }
   ],
   "source": [
    "sns.FacetGrid(iris_dataframe, hue='target_names', height=5) \\\n",
    "   .map(plt.scatter, 'sepal length (cm)', 'sepal width (cm)') \\\n",
    "   .add_legend()\n",
    "plt.show()"
   ]
  },
  {
   "cell_type": "markdown",
   "metadata": {},
   "source": [
    "Base on below graph, It is easier to distinguish between virginica and non-virginica based on the length and width of the petal.<br/>\n",
    "refe: https://www.kaggle.com/code/mdismielhossenabir/analysis-data-visualization-techniques"
   ]
  },
  {
   "cell_type": "code",
   "execution_count": 70,
   "metadata": {},
   "outputs": [
    {
     "data": {
      "image/png": "[encoded data removed]",
      "text/plain": [
       "<Figure size 639.75x500 with 1 Axes>"
      ]
     },
     "metadata": {},
     "output_type": "display_data"
    }
   ],
   "source": [
    "sns.FacetGrid(iris_dataframe, hue='target_names', height=5) \\\n",
    "   .map(plt.scatter, 'petal length (cm)', 'petal width (cm)') \\\n",
    "   .add_legend()\n",
    "plt.show()"
   ]
  },
  {
   "cell_type": "markdown",
   "metadata": {},
   "source": [
    "Use catplot bar to compare the distrbution of sepal width and length. <br/>\n",
    "Use catplot bar to compare the distrbution of petal width and length.<br/>\n",
    "refe: https://www.kaggle.com/code/mdismielhossenabir/analysis-data-visualization-techniques"
   ]
  },
  {
   "cell_type": "code",
   "execution_count": 71,
   "metadata": {},
   "outputs": [
    {
     "data": {
      "image/png": "[encoded data removed]",
      "text/plain": [
       "<Figure size 639.75x500 with 1 Axes>"
      ]
     },
     "metadata": {},
     "output_type": "display_data"
    },
    {
     "data": {
      "image/png": "[encoded data removed]",
      "text/plain": [
       "<Figure size 639.75x500 with 1 Axes>"
      ]
     },
     "metadata": {},
     "output_type": "display_data"
    }
   ],
   "source": [
    "sns.catplot(data=iris_dataframe, kind='bar', x='sepal width (cm)', y='sepal length (cm)', hue='target_names')\n",
    "sns.catplot(data=iris_dataframe, kind='bar', x='petal width (cm)', y='petal length (cm)', hue='target_names')\n",
    "plt.show()"
   ]
  },
  {
   "cell_type": "markdown",
   "metadata": {},
   "source": [
    "### 6. Split the data to a train set, a validation set and a test set."
   ]
  },
  {
   "cell_type": "code",
   "execution_count": 72,
   "metadata": {},
   "outputs": [],
   "source": [
    "# Add index column\n",
    "iris_dataframe['index'] = iris_dataframe.reset_index().index\n",
    "\n",
    "target_names = {\n",
    "    0:0,\n",
    "    1:1,\n",
    "    2:1\n",
    "}\n",
    "x = np.array(iris.data)\n",
    "target = np.array(iris_dataframe['target'].map(target_names)).reshape(-1, 1)\n",
    "index = np.array(iris_dataframe['index']).reshape(-1, 1)\n",
    "y = np.concatenate((target, index), axis=1)\n",
    "\n",
    "train_ratio = 0.8\n",
    "validation_ratio = 0.1\n",
    "test_ratio = 0.1\n",
    "\n",
    "x_train, x_test, y_train, y_test = train_test_split(x, y, test_size=1 - train_ratio, shuffle=True, random_state=42)\n",
    "x_val, x_test, y_val, y_test = train_test_split(x_test, y_test, test_size=test_ratio/(test_ratio + validation_ratio), shuffle=True, random_state=42)"
   ]
  },
  {
   "cell_type": "markdown",
   "metadata": {},
   "source": [
    "### 7. Run four logistic regression models"
   ]
  },
  {
   "cell_type": "markdown",
   "metadata": {},
   "source": [
    "**One feature model** <br/>\n",
    "According the 4 histograms above, feature 'petal width (cm)' distinguishes best between viriginica and non-viriginica.<br/>\n",
    "So 'petal width (cm)' is chosen as the feature to build this model."
   ]
  },
  {
   "cell_type": "code",
   "execution_count": 73,
   "metadata": {},
   "outputs": [],
   "source": [
    "models = list()\n",
    "model1feature = LogisticRegression(max_iter = 1000, random_state=42)\n",
    "model1feature.fit(x_train[:, 3:4], y_train[:, 0])\n",
    "models.append(model1feature)"
   ]
  },
  {
   "cell_type": "markdown",
   "metadata": {},
   "source": [
    "**Two feature model** <br/>\n",
    "According the Scatter graph above, feature 'petal width (cm)' and 'petal length (cm)' distinguishes best between viriginica and non-viriginica.<br/>\n",
    "So I chosen 'petal width (cm)' and 'petal length (cm)' as traning feature for this model."
   ]
  },
  {
   "cell_type": "code",
   "execution_count": 74,
   "metadata": {},
   "outputs": [],
   "source": [
    "model2feature = LogisticRegression(max_iter = 1000, random_state=42)\n",
    "model2feature.fit(x_train[:, 2:4], y_train[:, 0])\n",
    "models.append(model2feature)"
   ]
  },
  {
   "cell_type": "markdown",
   "metadata": {},
   "source": [
    "**Three feature model** <br/>\n",
    "Chosen 'sepal length (cm)', 'petal width (cm)' and 'petal length (cm)' for traning this model"
   ]
  },
  {
   "cell_type": "code",
   "execution_count": 75,
   "metadata": {},
   "outputs": [],
   "source": [
    "model3feature = LogisticRegression(max_iter = 1000, random_state=42)\n",
    "model3feature.fit(np.delete(x_train, [1], axis=1), y_train[:, 0])\n",
    "models.append(model3feature)"
   ]
  },
  {
   "cell_type": "markdown",
   "metadata": {},
   "source": [
    "**Four feature model** <br/>\n",
    "Chosen all feature for traning this model"
   ]
  },
  {
   "cell_type": "code",
   "execution_count": 76,
   "metadata": {},
   "outputs": [],
   "source": [
    "model4feature = LogisticRegression(max_iter = 1000, random_state=42)\n",
    "model4feature.fit(x_train, y_train[:, 0])\n",
    "models.append(model4feature)"
   ]
  },
  {
   "cell_type": "markdown",
   "metadata": {},
   "source": [
    "### 8. Evaluate the models on the validation set"
   ]
  },
  {
   "cell_type": "code",
   "execution_count": 77,
   "metadata": {},
   "outputs": [],
   "source": [
    "result_pds = list()\n",
    "for i in range(x.shape[1]):\n",
    "    result_pds.append(pd.DataFrame(columns=['Index', 'Probability', 'Prediction', 'GroundTruth'], index=range(15)))\n",
    "    result_pds[i]['Prediction'] = models[i].predict(x_val[:, :i+1])\n",
    "    result_pds[i]['Probability'] = models[i].predict_proba(x_val[:, :i+1])[:, 1]\n",
    "    result_pds[i]['GroundTruth'] = y_val[:, 0]\n",
    "    result_pds[i]['Index'] = y_val[:, 1]"
   ]
  },
  {
   "cell_type": "markdown",
   "metadata": {},
   "source": [
    "Print first model's result"
   ]
  },
  {
   "cell_type": "code",
   "execution_count": 78,
   "metadata": {},
   "outputs": [
    {
     "data": {
      "text/html": [
       "<div>\n",
       "<style scoped>\n",
       "    .dataframe tbody tr th:only-of-type {\n",
       "        vertical-align: middle;\n",
       "    }\n",
       "\n",
       "    .dataframe tbody tr th {\n",
       "        vertical-align: top;\n",
       "    }\n",
       "\n",
       "    .dataframe thead th {\n",
       "        text-align: right;\n",
       "    }\n",
       "</style>\n",
       "<table border=\"1\" class=\"dataframe\">\n",
       "  <thead>\n",
       "    <tr style=\"text-align: right;\">\n",
       "      <th></th>\n",
       "      <th>Index</th>\n",
       "      <th>Probability</th>\n",
       "      <th>Prediction</th>\n",
       "      <th>GroundTruth</th>\n",
       "    </tr>\n",
       "  </thead>\n",
       "  <tbody>\n",
       "    <tr>\n",
       "      <th>0</th>\n",
       "      <td>26</td>\n",
       "      <td>1.0</td>\n",
       "      <td>1</td>\n",
       "      <td>0</td>\n",
       "    </tr>\n",
       "    <tr>\n",
       "      <th>1</th>\n",
       "      <td>18</td>\n",
       "      <td>1.0</td>\n",
       "      <td>1</td>\n",
       "      <td>0</td>\n",
       "    </tr>\n",
       "    <tr>\n",
       "      <th>2</th>\n",
       "      <td>118</td>\n",
       "      <td>1.0</td>\n",
       "      <td>1</td>\n",
       "      <td>1</td>\n",
       "    </tr>\n",
       "    <tr>\n",
       "      <th>3</th>\n",
       "      <td>145</td>\n",
       "      <td>1.0</td>\n",
       "      <td>1</td>\n",
       "      <td>1</td>\n",
       "    </tr>\n",
       "    <tr>\n",
       "      <th>4</th>\n",
       "      <td>78</td>\n",
       "      <td>1.0</td>\n",
       "      <td>1</td>\n",
       "      <td>1</td>\n",
       "    </tr>\n",
       "    <tr>\n",
       "      <th>5</th>\n",
       "      <td>127</td>\n",
       "      <td>1.0</td>\n",
       "      <td>1</td>\n",
       "      <td>1</td>\n",
       "    </tr>\n",
       "    <tr>\n",
       "      <th>6</th>\n",
       "      <td>108</td>\n",
       "      <td>1.0</td>\n",
       "      <td>1</td>\n",
       "      <td>1</td>\n",
       "    </tr>\n",
       "    <tr>\n",
       "      <th>7</th>\n",
       "      <td>55</td>\n",
       "      <td>1.0</td>\n",
       "      <td>1</td>\n",
       "      <td>1</td>\n",
       "    </tr>\n",
       "    <tr>\n",
       "      <th>8</th>\n",
       "      <td>30</td>\n",
       "      <td>1.0</td>\n",
       "      <td>1</td>\n",
       "      <td>0</td>\n",
       "    </tr>\n",
       "    <tr>\n",
       "      <th>9</th>\n",
       "      <td>29</td>\n",
       "      <td>1.0</td>\n",
       "      <td>1</td>\n",
       "      <td>0</td>\n",
       "    </tr>\n",
       "    <tr>\n",
       "      <th>10</th>\n",
       "      <td>141</td>\n",
       "      <td>1.0</td>\n",
       "      <td>1</td>\n",
       "      <td>1</td>\n",
       "    </tr>\n",
       "    <tr>\n",
       "      <th>11</th>\n",
       "      <td>110</td>\n",
       "      <td>1.0</td>\n",
       "      <td>1</td>\n",
       "      <td>1</td>\n",
       "    </tr>\n",
       "    <tr>\n",
       "      <th>12</th>\n",
       "      <td>19</td>\n",
       "      <td>1.0</td>\n",
       "      <td>1</td>\n",
       "      <td>0</td>\n",
       "    </tr>\n",
       "    <tr>\n",
       "      <th>13</th>\n",
       "      <td>132</td>\n",
       "      <td>1.0</td>\n",
       "      <td>1</td>\n",
       "      <td>1</td>\n",
       "    </tr>\n",
       "    <tr>\n",
       "      <th>14</th>\n",
       "      <td>64</td>\n",
       "      <td>1.0</td>\n",
       "      <td>1</td>\n",
       "      <td>1</td>\n",
       "    </tr>\n",
       "  </tbody>\n",
       "</table>\n",
       "</div>"
      ],
      "text/plain": [
       "    Index  Probability  Prediction  GroundTruth\n",
       "0      26          1.0           1            0\n",
       "1      18          1.0           1            0\n",
       "2     118          1.0           1            1\n",
       "3     145          1.0           1            1\n",
       "4      78          1.0           1            1\n",
       "5     127          1.0           1            1\n",
       "6     108          1.0           1            1\n",
       "7      55          1.0           1            1\n",
       "8      30          1.0           1            0\n",
       "9      29          1.0           1            0\n",
       "10    141          1.0           1            1\n",
       "11    110          1.0           1            1\n",
       "12     19          1.0           1            0\n",
       "13    132          1.0           1            1\n",
       "14     64          1.0           1            1"
      ]
     },
     "execution_count": 78,
     "metadata": {},
     "output_type": "execute_result"
    }
   ],
   "source": [
    "result_pds[0]"
   ]
  },
  {
   "cell_type": "markdown",
   "metadata": {},
   "source": [
    "Print second model's result"
   ]
  },
  {
   "cell_type": "code",
   "execution_count": 79,
   "metadata": {},
   "outputs": [
    {
     "data": {
      "text/html": [
       "<div>\n",
       "<style scoped>\n",
       "    .dataframe tbody tr th:only-of-type {\n",
       "        vertical-align: middle;\n",
       "    }\n",
       "\n",
       "    .dataframe tbody tr th {\n",
       "        vertical-align: top;\n",
       "    }\n",
       "\n",
       "    .dataframe thead th {\n",
       "        text-align: right;\n",
       "    }\n",
       "</style>\n",
       "<table border=\"1\" class=\"dataframe\">\n",
       "  <thead>\n",
       "    <tr style=\"text-align: right;\">\n",
       "      <th></th>\n",
       "      <th>Index</th>\n",
       "      <th>Probability</th>\n",
       "      <th>Prediction</th>\n",
       "      <th>GroundTruth</th>\n",
       "    </tr>\n",
       "  </thead>\n",
       "  <tbody>\n",
       "    <tr>\n",
       "      <th>0</th>\n",
       "      <td>26</td>\n",
       "      <td>0.999783</td>\n",
       "      <td>1</td>\n",
       "      <td>0</td>\n",
       "    </tr>\n",
       "    <tr>\n",
       "      <th>1</th>\n",
       "      <td>18</td>\n",
       "      <td>0.999975</td>\n",
       "      <td>1</td>\n",
       "      <td>0</td>\n",
       "    </tr>\n",
       "    <tr>\n",
       "      <th>2</th>\n",
       "      <td>118</td>\n",
       "      <td>0.999999</td>\n",
       "      <td>1</td>\n",
       "      <td>1</td>\n",
       "    </tr>\n",
       "    <tr>\n",
       "      <th>3</th>\n",
       "      <td>145</td>\n",
       "      <td>0.999995</td>\n",
       "      <td>1</td>\n",
       "      <td>1</td>\n",
       "    </tr>\n",
       "    <tr>\n",
       "      <th>4</th>\n",
       "      <td>78</td>\n",
       "      <td>0.999970</td>\n",
       "      <td>1</td>\n",
       "      <td>1</td>\n",
       "    </tr>\n",
       "    <tr>\n",
       "      <th>5</th>\n",
       "      <td>127</td>\n",
       "      <td>0.999979</td>\n",
       "      <td>1</td>\n",
       "      <td>1</td>\n",
       "    </tr>\n",
       "    <tr>\n",
       "      <th>6</th>\n",
       "      <td>108</td>\n",
       "      <td>0.999992</td>\n",
       "      <td>1</td>\n",
       "      <td>1</td>\n",
       "    </tr>\n",
       "    <tr>\n",
       "      <th>7</th>\n",
       "      <td>55</td>\n",
       "      <td>0.999930</td>\n",
       "      <td>1</td>\n",
       "      <td>1</td>\n",
       "    </tr>\n",
       "    <tr>\n",
       "      <th>8</th>\n",
       "      <td>30</td>\n",
       "      <td>0.999516</td>\n",
       "      <td>1</td>\n",
       "      <td>0</td>\n",
       "    </tr>\n",
       "    <tr>\n",
       "      <th>9</th>\n",
       "      <td>29</td>\n",
       "      <td>0.999440</td>\n",
       "      <td>1</td>\n",
       "      <td>0</td>\n",
       "    </tr>\n",
       "    <tr>\n",
       "      <th>10</th>\n",
       "      <td>141</td>\n",
       "      <td>0.999997</td>\n",
       "      <td>1</td>\n",
       "      <td>1</td>\n",
       "    </tr>\n",
       "    <tr>\n",
       "      <th>11</th>\n",
       "      <td>110</td>\n",
       "      <td>0.999994</td>\n",
       "      <td>1</td>\n",
       "      <td>1</td>\n",
       "    </tr>\n",
       "    <tr>\n",
       "      <th>12</th>\n",
       "      <td>19</td>\n",
       "      <td>0.999887</td>\n",
       "      <td>1</td>\n",
       "      <td>0</td>\n",
       "    </tr>\n",
       "    <tr>\n",
       "      <th>13</th>\n",
       "      <td>132</td>\n",
       "      <td>0.999988</td>\n",
       "      <td>1</td>\n",
       "      <td>1</td>\n",
       "    </tr>\n",
       "    <tr>\n",
       "      <th>14</th>\n",
       "      <td>64</td>\n",
       "      <td>0.999919</td>\n",
       "      <td>1</td>\n",
       "      <td>1</td>\n",
       "    </tr>\n",
       "  </tbody>\n",
       "</table>\n",
       "</div>"
      ],
      "text/plain": [
       "    Index  Probability  Prediction  GroundTruth\n",
       "0      26     0.999783           1            0\n",
       "1      18     0.999975           1            0\n",
       "2     118     0.999999           1            1\n",
       "3     145     0.999995           1            1\n",
       "4      78     0.999970           1            1\n",
       "5     127     0.999979           1            1\n",
       "6     108     0.999992           1            1\n",
       "7      55     0.999930           1            1\n",
       "8      30     0.999516           1            0\n",
       "9      29     0.999440           1            0\n",
       "10    141     0.999997           1            1\n",
       "11    110     0.999994           1            1\n",
       "12     19     0.999887           1            0\n",
       "13    132     0.999988           1            1\n",
       "14     64     0.999919           1            1"
      ]
     },
     "execution_count": 79,
     "metadata": {},
     "output_type": "execute_result"
    }
   ],
   "source": [
    "result_pds[1]"
   ]
  },
  {
   "cell_type": "markdown",
   "metadata": {},
   "source": [
    "Print third model's result"
   ]
  },
  {
   "cell_type": "code",
   "execution_count": 80,
   "metadata": {},
   "outputs": [
    {
     "data": {
      "text/html": [
       "<div>\n",
       "<style scoped>\n",
       "    .dataframe tbody tr th:only-of-type {\n",
       "        vertical-align: middle;\n",
       "    }\n",
       "\n",
       "    .dataframe tbody tr th {\n",
       "        vertical-align: top;\n",
       "    }\n",
       "\n",
       "    .dataframe thead th {\n",
       "        text-align: right;\n",
       "    }\n",
       "</style>\n",
       "<table border=\"1\" class=\"dataframe\">\n",
       "  <thead>\n",
       "    <tr style=\"text-align: right;\">\n",
       "      <th></th>\n",
       "      <th>Index</th>\n",
       "      <th>Probability</th>\n",
       "      <th>Prediction</th>\n",
       "      <th>GroundTruth</th>\n",
       "    </tr>\n",
       "  </thead>\n",
       "  <tbody>\n",
       "    <tr>\n",
       "      <th>0</th>\n",
       "      <td>26</td>\n",
       "      <td>0.924986</td>\n",
       "      <td>1</td>\n",
       "      <td>0</td>\n",
       "    </tr>\n",
       "    <tr>\n",
       "      <th>1</th>\n",
       "      <td>18</td>\n",
       "      <td>0.978310</td>\n",
       "      <td>1</td>\n",
       "      <td>0</td>\n",
       "    </tr>\n",
       "    <tr>\n",
       "      <th>2</th>\n",
       "      <td>118</td>\n",
       "      <td>0.998854</td>\n",
       "      <td>1</td>\n",
       "      <td>1</td>\n",
       "    </tr>\n",
       "    <tr>\n",
       "      <th>3</th>\n",
       "      <td>145</td>\n",
       "      <td>0.996701</td>\n",
       "      <td>1</td>\n",
       "      <td>1</td>\n",
       "    </tr>\n",
       "    <tr>\n",
       "      <th>4</th>\n",
       "      <td>78</td>\n",
       "      <td>0.989428</td>\n",
       "      <td>1</td>\n",
       "      <td>1</td>\n",
       "    </tr>\n",
       "    <tr>\n",
       "      <th>5</th>\n",
       "      <td>127</td>\n",
       "      <td>0.994610</td>\n",
       "      <td>1</td>\n",
       "      <td>1</td>\n",
       "    </tr>\n",
       "    <tr>\n",
       "      <th>6</th>\n",
       "      <td>108</td>\n",
       "      <td>0.993935</td>\n",
       "      <td>1</td>\n",
       "      <td>1</td>\n",
       "    </tr>\n",
       "    <tr>\n",
       "      <th>7</th>\n",
       "      <td>55</td>\n",
       "      <td>0.985230</td>\n",
       "      <td>1</td>\n",
       "      <td>1</td>\n",
       "    </tr>\n",
       "    <tr>\n",
       "      <th>8</th>\n",
       "      <td>30</td>\n",
       "      <td>0.847900</td>\n",
       "      <td>1</td>\n",
       "      <td>0</td>\n",
       "    </tr>\n",
       "    <tr>\n",
       "      <th>9</th>\n",
       "      <td>29</td>\n",
       "      <td>0.873248</td>\n",
       "      <td>1</td>\n",
       "      <td>0</td>\n",
       "    </tr>\n",
       "    <tr>\n",
       "      <th>10</th>\n",
       "      <td>141</td>\n",
       "      <td>0.997314</td>\n",
       "      <td>1</td>\n",
       "      <td>1</td>\n",
       "    </tr>\n",
       "    <tr>\n",
       "      <th>11</th>\n",
       "      <td>110</td>\n",
       "      <td>0.997609</td>\n",
       "      <td>1</td>\n",
       "      <td>1</td>\n",
       "    </tr>\n",
       "    <tr>\n",
       "      <th>12</th>\n",
       "      <td>19</td>\n",
       "      <td>0.968226</td>\n",
       "      <td>1</td>\n",
       "      <td>0</td>\n",
       "    </tr>\n",
       "    <tr>\n",
       "      <th>13</th>\n",
       "      <td>132</td>\n",
       "      <td>0.996060</td>\n",
       "      <td>1</td>\n",
       "      <td>1</td>\n",
       "    </tr>\n",
       "    <tr>\n",
       "      <th>14</th>\n",
       "      <td>64</td>\n",
       "      <td>0.970791</td>\n",
       "      <td>1</td>\n",
       "      <td>1</td>\n",
       "    </tr>\n",
       "  </tbody>\n",
       "</table>\n",
       "</div>"
      ],
      "text/plain": [
       "    Index  Probability  Prediction  GroundTruth\n",
       "0      26     0.924986           1            0\n",
       "1      18     0.978310           1            0\n",
       "2     118     0.998854           1            1\n",
       "3     145     0.996701           1            1\n",
       "4      78     0.989428           1            1\n",
       "5     127     0.994610           1            1\n",
       "6     108     0.993935           1            1\n",
       "7      55     0.985230           1            1\n",
       "8      30     0.847900           1            0\n",
       "9      29     0.873248           1            0\n",
       "10    141     0.997314           1            1\n",
       "11    110     0.997609           1            1\n",
       "12     19     0.968226           1            0\n",
       "13    132     0.996060           1            1\n",
       "14     64     0.970791           1            1"
      ]
     },
     "execution_count": 80,
     "metadata": {},
     "output_type": "execute_result"
    }
   ],
   "source": [
    "result_pds[2]"
   ]
  },
  {
   "cell_type": "markdown",
   "metadata": {},
   "source": [
    "Print fourth model's result"
   ]
  },
  {
   "cell_type": "code",
   "execution_count": 81,
   "metadata": {},
   "outputs": [
    {
     "data": {
      "text/html": [
       "<div>\n",
       "<style scoped>\n",
       "    .dataframe tbody tr th:only-of-type {\n",
       "        vertical-align: middle;\n",
       "    }\n",
       "\n",
       "    .dataframe tbody tr th {\n",
       "        vertical-align: top;\n",
       "    }\n",
       "\n",
       "    .dataframe thead th {\n",
       "        text-align: right;\n",
       "    }\n",
       "</style>\n",
       "<table border=\"1\" class=\"dataframe\">\n",
       "  <thead>\n",
       "    <tr style=\"text-align: right;\">\n",
       "      <th></th>\n",
       "      <th>Index</th>\n",
       "      <th>Probability</th>\n",
       "      <th>Prediction</th>\n",
       "      <th>GroundTruth</th>\n",
       "    </tr>\n",
       "  </thead>\n",
       "  <tbody>\n",
       "    <tr>\n",
       "      <th>0</th>\n",
       "      <td>26</td>\n",
       "      <td>0.038631</td>\n",
       "      <td>0</td>\n",
       "      <td>0</td>\n",
       "    </tr>\n",
       "    <tr>\n",
       "      <th>1</th>\n",
       "      <td>18</td>\n",
       "      <td>0.041479</td>\n",
       "      <td>0</td>\n",
       "      <td>0</td>\n",
       "    </tr>\n",
       "    <tr>\n",
       "      <th>2</th>\n",
       "      <td>118</td>\n",
       "      <td>0.999995</td>\n",
       "      <td>1</td>\n",
       "      <td>1</td>\n",
       "    </tr>\n",
       "    <tr>\n",
       "      <th>3</th>\n",
       "      <td>145</td>\n",
       "      <td>0.999490</td>\n",
       "      <td>1</td>\n",
       "      <td>1</td>\n",
       "    </tr>\n",
       "    <tr>\n",
       "      <th>4</th>\n",
       "      <td>78</td>\n",
       "      <td>0.993865</td>\n",
       "      <td>1</td>\n",
       "      <td>1</td>\n",
       "    </tr>\n",
       "    <tr>\n",
       "      <th>5</th>\n",
       "      <td>127</td>\n",
       "      <td>0.997979</td>\n",
       "      <td>1</td>\n",
       "      <td>1</td>\n",
       "    </tr>\n",
       "    <tr>\n",
       "      <th>6</th>\n",
       "      <td>108</td>\n",
       "      <td>0.999863</td>\n",
       "      <td>1</td>\n",
       "      <td>1</td>\n",
       "    </tr>\n",
       "    <tr>\n",
       "      <th>7</th>\n",
       "      <td>55</td>\n",
       "      <td>0.992346</td>\n",
       "      <td>1</td>\n",
       "      <td>1</td>\n",
       "    </tr>\n",
       "    <tr>\n",
       "      <th>8</th>\n",
       "      <td>30</td>\n",
       "      <td>0.038541</td>\n",
       "      <td>0</td>\n",
       "      <td>0</td>\n",
       "    </tr>\n",
       "    <tr>\n",
       "      <th>9</th>\n",
       "      <td>29</td>\n",
       "      <td>0.033952</td>\n",
       "      <td>0</td>\n",
       "      <td>0</td>\n",
       "    </tr>\n",
       "    <tr>\n",
       "      <th>10</th>\n",
       "      <td>141</td>\n",
       "      <td>0.999362</td>\n",
       "      <td>1</td>\n",
       "      <td>1</td>\n",
       "    </tr>\n",
       "    <tr>\n",
       "      <th>11</th>\n",
       "      <td>110</td>\n",
       "      <td>0.998912</td>\n",
       "      <td>1</td>\n",
       "      <td>1</td>\n",
       "    </tr>\n",
       "    <tr>\n",
       "      <th>12</th>\n",
       "      <td>19</td>\n",
       "      <td>0.021047</td>\n",
       "      <td>0</td>\n",
       "      <td>0</td>\n",
       "    </tr>\n",
       "    <tr>\n",
       "      <th>13</th>\n",
       "      <td>132</td>\n",
       "      <td>0.999781</td>\n",
       "      <td>1</td>\n",
       "      <td>1</td>\n",
       "    </tr>\n",
       "    <tr>\n",
       "      <th>14</th>\n",
       "      <td>64</td>\n",
       "      <td>0.939349</td>\n",
       "      <td>1</td>\n",
       "      <td>1</td>\n",
       "    </tr>\n",
       "  </tbody>\n",
       "</table>\n",
       "</div>"
      ],
      "text/plain": [
       "    Index  Probability  Prediction  GroundTruth\n",
       "0      26     0.038631           0            0\n",
       "1      18     0.041479           0            0\n",
       "2     118     0.999995           1            1\n",
       "3     145     0.999490           1            1\n",
       "4      78     0.993865           1            1\n",
       "5     127     0.997979           1            1\n",
       "6     108     0.999863           1            1\n",
       "7      55     0.992346           1            1\n",
       "8      30     0.038541           0            0\n",
       "9      29     0.033952           0            0\n",
       "10    141     0.999362           1            1\n",
       "11    110     0.998912           1            1\n",
       "12     19     0.021047           0            0\n",
       "13    132     0.999781           1            1\n",
       "14     64     0.939349           1            1"
      ]
     },
     "execution_count": 81,
     "metadata": {},
     "output_type": "execute_result"
    }
   ],
   "source": [
    "result_pds[3]"
   ]
  },
  {
   "cell_type": "markdown",
   "metadata": {},
   "source": [
    "### 9. Print the accuracy of each model\n",
    "accuracy = (count(predication == GroudTruth) / count(Validation set))"
   ]
  },
  {
   "cell_type": "code",
   "execution_count": 82,
   "metadata": {},
   "outputs": [
    {
     "name": "stdout",
     "output_type": "stream",
     "text": [
      "The accuracy of Model 0 is: 66.67%\n",
      "The accuracy of Model 1 is: 66.67%\n",
      "The accuracy of Model 2 is: 66.67%\n",
      "The accuracy of Model 3 is: 100.00%\n"
     ]
    }
   ],
   "source": [
    "for i in range(x.shape[1]):\n",
    "    print('The accuracy of Model {:} is: {:.2f}%'.format(i, (result_pds[i][\"Prediction\"] == result_pds[i][\"GroundTruth\"]).sum()/15*100))"
   ]
  },
  {
   "cell_type": "markdown",
   "metadata": {},
   "source": [
    "### 10. Plot the decision boundary for models"
   ]
  },
  {
   "cell_type": "markdown",
   "metadata": {},
   "source": [
    "**One feature model graph**"
   ]
  },
  {
   "cell_type": "code",
   "execution_count": 83,
   "metadata": {},
   "outputs": [
    {
     "data": {
      "image/png": "[encoded data removed]",
      "text/plain": [
       "<Figure size 1000x300 with 1 Axes>"
      ]
     },
     "metadata": {},
     "output_type": "display_data"
    }
   ],
   "source": [
    "decision_boundary_point = np.array(-models[0].intercept_ / models[0].coef_[0])\n",
    "\n",
    "y_pred = np.array(result_pds[0]['Prediction'])\n",
    "y_virginica = x_val[y_pred == 1, : ]\n",
    "y_non_virginica = x_val[y_pred == 0, : ]\n",
    "\n",
    "plt.figure(figsize=(10, 3))\n",
    "plt.scatter(y_virginica, np.zeros_like(y_virginica), color='red', alpha=0.5, label='Virginica')\n",
    "plt.scatter(y_non_virginica, np.zeros_like(y_non_virginica), color='black', alpha=0.5, label='Non-Virginica')\n",
    "plt.scatter(decision_boundary_point, np.zeros_like(decision_boundary_point), color='blue', alpha=0.5, label='Decision Boundary')\n",
    "plt.title('Scatter for one feature model')\n",
    "plt.xlabel('petal width (cm)')\n",
    "plt.yticks([])\n",
    "plt.grid(axis='x')\n",
    "plt.legend()\n",
    "plt.show()\n"
   ]
  },
  {
   "cell_type": "markdown",
   "metadata": {},
   "source": [
    "**Two features model graph**"
   ]
  },
  {
   "cell_type": "code",
   "execution_count": 86,
   "metadata": {},
   "outputs": [
    {
     "data": {
      "application/vnd.plotly.v1+json": {
       "config": {
        "plotlyServerURL": "https://plot.ly"
       },
       "data": [
        {
         "marker": {
          "color": "red"
         },
         "mode": "markers",
         "name": "Virginica",
         "type": "scatter",
         "x": [
          1.6,
          1.7,
          6.9,
          5.2,
          4.5,
          4.9,
          5.8,
          4.5,
          1.6,
          1.6,
          5.1,
          5.1,
          1.5,
          5.6,
          3.6
         ],
         "y": [
          0.4,
          0.3,
          2.3,
          2.3,
          1.5,
          1.8,
          1.8,
          1.3,
          0.2,
          0.2,
          2.3,
          2,
          0.3,
          2.2,
          1.3
         ]
        },
        {
         "marker": {
          "color": "black"
         },
         "mode": "markers",
         "name": "Non-Virginica",
         "type": "scatter",
         "x": [],
         "y": []
        },
        {
         "mode": "lines",
         "name": "Decision Boundary",
         "type": "scatter",
         "x": [
          0.5,
          0.5747474747474748,
          0.6494949494949496,
          0.7242424242424242,
          0.798989898989899,
          0.8737373737373738,
          0.9484848484848485,
          1.0232323232323233,
          1.097979797979798,
          1.1727272727272728,
          1.2474747474747476,
          1.3222222222222224,
          1.396969696969697,
          1.471717171717172,
          1.5464646464646465,
          1.6212121212121213,
          1.6959595959595961,
          1.770707070707071,
          1.8454545454545457,
          1.9202020202020205,
          1.9949494949494953,
          2.06969696969697,
          2.144444444444445,
          2.2191919191919194,
          2.293939393939394,
          2.368686868686869,
          2.443434343434344,
          2.5181818181818185,
          2.592929292929293,
          2.667676767676768,
          2.7424242424242427,
          2.8171717171717177,
          2.8919191919191922,
          2.966666666666667,
          3.041414141414142,
          3.1161616161616164,
          3.1909090909090914,
          3.265656565656566,
          3.340404040404041,
          3.4151515151515155,
          3.4898989898989905,
          3.564646464646465,
          3.6393939393939396,
          3.7141414141414146,
          3.788888888888889,
          3.863636363636364,
          3.9383838383838388,
          4.013131313131314,
          4.087878787878788,
          4.162626262626263,
          4.237373737373738,
          4.3121212121212125,
          4.386868686868688,
          4.461616161616162,
          4.536363636363637,
          4.611111111111112,
          4.685858585858586,
          4.760606060606061,
          4.835353535353536,
          4.910101010101011,
          4.984848484848485,
          5.05959595959596,
          5.134343434343435,
          5.20909090909091,
          5.2838383838383844,
          5.358585858585859,
          5.433333333333334,
          5.508080808080809,
          5.582828282828284,
          5.657575757575758,
          5.732323232323233,
          5.807070707070708,
          5.881818181818183,
          5.956565656565657,
          6.031313131313132,
          6.106060606060606,
          6.180808080808082,
          6.255555555555556,
          6.330303030303031,
          6.4050505050505055,
          6.479797979797981,
          6.554545454545456,
          6.62929292929293,
          6.704040404040405,
          6.778787878787879,
          6.853535353535355,
          6.928282828282829,
          7.003030303030304,
          7.077777777777778,
          7.152525252525253,
          7.227272727272728,
          7.302020202020203,
          7.3767676767676775,
          7.451515151515152,
          7.5262626262626275,
          7.601010101010102,
          7.675757575757577,
          7.750505050505051,
          7.825252525252526,
          7.9
         ],
         "y": [
          6.081864669174985,
          5.899858642990835,
          5.7178526168066846,
          5.535846590622533,
          5.353840564438383,
          5.171834538254233,
          4.9898285120700825,
          4.807822485885932,
          4.625816459701781,
          4.443810433517631,
          4.26180440733348,
          4.079798381149329,
          3.89779235496518,
          3.7157863287810287,
          3.533780302596879,
          3.351774276412728,
          3.1697682502285778,
          2.9877622240444275,
          2.8057561978602763,
          2.623750171676126,
          2.4417441454919757,
          2.2597381193078254,
          2.0777320931236742,
          1.8957260669395248,
          1.7137200407553745,
          1.5317140145712234,
          1.3497079883870722,
          1.1677019622029228,
          0.9856959360187725,
          0.8036899098346213,
          0.621683883650471,
          0.4396778574663198,
          0.2576718312821704,
          0.07566580509802012,
          -0.10634022108613106,
          -0.28834624727028046,
          -0.47035227345443165,
          -0.6523582996385819,
          -0.8343643258227331,
          -1.0163703520068825,
          -1.1983763781910337,
          -1.380382404375185,
          -1.5623884305593343,
          -1.7443944567434855,
          -1.9264004829276349,
          -2.108406509111786,
          -2.2904125352959355,
          -2.4724185614800884,
          -2.654424587664236,
          -2.836430613848389,
          -3.0184366400325384,
          -3.200442666216688,
          -3.382448692400841,
          -3.5644547185849884,
          -3.7464607447691396,
          -3.9284667709532908,
          -4.11047279713744,
          -4.29247882332159,
          -4.4744848495057425,
          -4.656490875689892,
          -4.838496901874043,
          -5.0205029280581925,
          -5.2025089542423455,
          -5.384514980426495,
          -5.566521006610644,
          -5.7485270327947955,
          -5.930533058978945,
          -6.112539085163096,
          -6.294545111347247,
          -6.476551137531397,
          -6.658557163715546,
          -6.840563189899699,
          -7.022569216083848,
          -7.204575242268,
          -7.386581268452149,
          -7.568587294636298,
          -7.750593320820451,
          -7.932599347004601,
          -8.11460537318875,
          -8.296611399372901,
          -8.478617425557053,
          -8.660623451741204,
          -8.842629477925355,
          -9.024635504109503,
          -9.206641530293654,
          -9.388647556477805,
          -9.570653582661956,
          -9.752659608846104,
          -9.934665635030255,
          -10.116671661214406,
          -10.298677687398557,
          -10.480683713582708,
          -10.662689739766856,
          -10.844695765951007,
          -11.026701792135158,
          -11.20870781831931,
          -11.39071384450346,
          -11.572719870687608,
          -11.75472589687176,
          -11.93673192305591
         ]
        }
       ],
       "layout": {
        "height": 600,
        "showlegend": true,
        "template": {
         "data": {
          "bar": [
           {
            "error_x": {
             "color": "#2a3f5f"
            },
            "error_y": {
             "color": "#2a3f5f"
            },
            "marker": {
             "line": {
              "color": "#E5ECF6",
              "width": 0.5
             },
             "pattern": {
              "fillmode": "overlay",
              "size": 10,
              "solidity": 0.2
             }
            },
            "type": "bar"
           }
          ],
          "barpolar": [
           {
            "marker": {
             "line": {
              "color": "#E5ECF6",
              "width": 0.5
             },
             "pattern": {
              "fillmode": "overlay",
              "size": 10,
              "solidity": 0.2
             }
            },
            "type": "barpolar"
           }
          ],
          "carpet": [
           {
            "aaxis": {
             "endlinecolor": "#2a3f5f",
             "gridcolor": "white",
             "linecolor": "white",
             "minorgridcolor": "white",
             "startlinecolor": "#2a3f5f"
            },
            "baxis": {
             "endlinecolor": "#2a3f5f",
             "gridcolor": "white",
             "linecolor": "white",
             "minorgridcolor": "white",
             "startlinecolor": "#2a3f5f"
            },
            "type": "carpet"
           }
          ],
          "choropleth": [
           {
            "colorbar": {
             "outlinewidth": 0,
             "ticks": ""
            },
            "type": "choropleth"
           }
          ],
          "contour": [
           {
            "colorbar": {
             "outlinewidth": 0,
             "ticks": ""
            },
            "colorscale": [
             [
              0,
              "#0d0887"
             ],
             [
              0.1111111111111111,
              "#46039f"
             ],
             [
              0.2222222222222222,
              "#7201a8"
             ],
             [
              0.3333333333333333,
              "#9c179e"
             ],
             [
              0.4444444444444444,
              "#bd3786"
             ],
             [
              0.5555555555555556,
              "#d8576b"
             ],
             [
              0.6666666666666666,
              "#ed7953"
             ],
             [
              0.7777777777777778,
              "#fb9f3a"
             ],
             [
              0.8888888888888888,
              "#fdca26"
             ],
             [
              1,
              "#f0f921"
             ]
            ],
            "type": "contour"
           }
          ],
          "contourcarpet": [
           {
            "colorbar": {
             "outlinewidth": 0,
             "ticks": ""
            },
            "type": "contourcarpet"
           }
          ],
          "heatmap": [
           {
            "colorbar": {
             "outlinewidth": 0,
             "ticks": ""
            },
            "colorscale": [
             [
              0,
              "#0d0887"
             ],
             [
              0.1111111111111111,
              "#46039f"
             ],
             [
              0.2222222222222222,
              "#7201a8"
             ],
             [
              0.3333333333333333,
              "#9c179e"
             ],
             [
              0.4444444444444444,
              "#bd3786"
             ],
             [
              0.5555555555555556,
              "#d8576b"
             ],
             [
              0.6666666666666666,
              "#ed7953"
             ],
             [
              0.7777777777777778,
              "#fb9f3a"
             ],
             [
              0.8888888888888888,
              "#fdca26"
             ],
             [
              1,
              "#f0f921"
             ]
            ],
            "type": "heatmap"
           }
          ],
          "heatmapgl": [
           {
            "colorbar": {
             "outlinewidth": 0,
             "ticks": ""
            },
            "colorscale": [
             [
              0,
              "#0d0887"
             ],
             [
              0.1111111111111111,
              "#46039f"
             ],
             [
              0.2222222222222222,
              "#7201a8"
             ],
             [
              0.3333333333333333,
              "#9c179e"
             ],
             [
              0.4444444444444444,
              "#bd3786"
             ],
             [
              0.5555555555555556,
              "#d8576b"
             ],
             [
              0.6666666666666666,
              "#ed7953"
             ],
             [
              0.7777777777777778,
              "#fb9f3a"
             ],
             [
              0.8888888888888888,
              "#fdca26"
             ],
             [
              1,
              "#f0f921"
             ]
            ],
            "type": "heatmapgl"
           }
          ],
          "histogram": [
           {
            "marker": {
             "pattern": {
              "fillmode": "overlay",
              "size": 10,
              "solidity": 0.2
             }
            },
            "type": "histogram"
           }
          ],
          "histogram2d": [
           {
            "colorbar": {
             "outlinewidth": 0,
             "ticks": ""
            },
            "colorscale": [
             [
              0,
              "#0d0887"
             ],
             [
              0.1111111111111111,
              "#46039f"
             ],
             [
              0.2222222222222222,
              "#7201a8"
             ],
             [
              0.3333333333333333,
              "#9c179e"
             ],
             [
              0.4444444444444444,
              "#bd3786"
             ],
             [
              0.5555555555555556,
              "#d8576b"
             ],
             [
              0.6666666666666666,
              "#ed7953"
             ],
             [
              0.7777777777777778,
              "#fb9f3a"
             ],
             [
              0.8888888888888888,
              "#fdca26"
             ],
             [
              1,
              "#f0f921"
             ]
            ],
            "type": "histogram2d"
           }
          ],
          "histogram2dcontour": [
           {
            "colorbar": {
             "outlinewidth": 0,
             "ticks": ""
            },
            "colorscale": [
             [
              0,
              "#0d0887"
             ],
             [
              0.1111111111111111,
              "#46039f"
             ],
             [
              0.2222222222222222,
              "#7201a8"
             ],
             [
              0.3333333333333333,
              "#9c179e"
             ],
             [
              0.4444444444444444,
              "#bd3786"
             ],
             [
              0.5555555555555556,
              "#d8576b"
             ],
             [
              0.6666666666666666,
              "#ed7953"
             ],
             [
              0.7777777777777778,
              "#fb9f3a"
             ],
             [
              0.8888888888888888,
              "#fdca26"
             ],
             [
              1,
              "#f0f921"
             ]
            ],
            "type": "histogram2dcontour"
           }
          ],
          "mesh3d": [
           {
            "colorbar": {
             "outlinewidth": 0,
             "ticks": ""
            },
            "type": "mesh3d"
           }
          ],
          "parcoords": [
           {
            "line": {
             "colorbar": {
              "outlinewidth": 0,
              "ticks": ""
             }
            },
            "type": "parcoords"
           }
          ],
          "pie": [
           {
            "automargin": true,
            "type": "pie"
           }
          ],
          "scatter": [
           {
            "fillpattern": {
             "fillmode": "overlay",
             "size": 10,
             "solidity": 0.2
            },
            "type": "scatter"
           }
          ],
          "scatter3d": [
           {
            "line": {
             "colorbar": {
              "outlinewidth": 0,
              "ticks": ""
             }
            },
            "marker": {
             "colorbar": {
              "outlinewidth": 0,
              "ticks": ""
             }
            },
            "type": "scatter3d"
           }
          ],
          "scattercarpet": [
           {
            "marker": {
             "colorbar": {
              "outlinewidth": 0,
              "ticks": ""
             }
            },
            "type": "scattercarpet"
           }
          ],
          "scattergeo": [
           {
            "marker": {
             "colorbar": {
              "outlinewidth": 0,
              "ticks": ""
             }
            },
            "type": "scattergeo"
           }
          ],
          "scattergl": [
           {
            "marker": {
             "colorbar": {
              "outlinewidth": 0,
              "ticks": ""
             }
            },
            "type": "scattergl"
           }
          ],
          "scattermapbox": [
           {
            "marker": {
             "colorbar": {
              "outlinewidth": 0,
              "ticks": ""
             }
            },
            "type": "scattermapbox"
           }
          ],
          "scatterpolar": [
           {
            "marker": {
             "colorbar": {
              "outlinewidth": 0,
              "ticks": ""
             }
            },
            "type": "scatterpolar"
           }
          ],
          "scatterpolargl": [
           {
            "marker": {
             "colorbar": {
              "outlinewidth": 0,
              "ticks": ""
             }
            },
            "type": "scatterpolargl"
           }
          ],
          "scatterternary": [
           {
            "marker": {
             "colorbar": {
              "outlinewidth": 0,
              "ticks": ""
             }
            },
            "type": "scatterternary"
           }
          ],
          "surface": [
           {
            "colorbar": {
             "outlinewidth": 0,
             "ticks": ""
            },
            "colorscale": [
             [
              0,
              "#0d0887"
             ],
             [
              0.1111111111111111,
              "#46039f"
             ],
             [
              0.2222222222222222,
              "#7201a8"
             ],
             [
              0.3333333333333333,
              "#9c179e"
             ],
             [
              0.4444444444444444,
              "#bd3786"
             ],
             [
              0.5555555555555556,
              "#d8576b"
             ],
             [
              0.6666666666666666,
              "#ed7953"
             ],
             [
              0.7777777777777778,
              "#fb9f3a"
             ],
             [
              0.8888888888888888,
              "#fdca26"
             ],
             [
              1,
              "#f0f921"
             ]
            ],
            "type": "surface"
           }
          ],
          "table": [
           {
            "cells": {
             "fill": {
              "color": "#EBF0F8"
             },
             "line": {
              "color": "white"
             }
            },
            "header": {
             "fill": {
              "color": "#C8D4E3"
             },
             "line": {
              "color": "white"
             }
            },
            "type": "table"
           }
          ]
         },
         "layout": {
          "annotationdefaults": {
           "arrowcolor": "#2a3f5f",
           "arrowhead": 0,
           "arrowwidth": 1
          },
          "autotypenumbers": "strict",
          "coloraxis": {
           "colorbar": {
            "outlinewidth": 0,
            "ticks": ""
           }
          },
          "colorscale": {
           "diverging": [
            [
             0,
             "#8e0152"
            ],
            [
             0.1,
             "#c51b7d"
            ],
            [
             0.2,
             "#de77ae"
            ],
            [
             0.3,
             "#f1b6da"
            ],
            [
             0.4,
             "#fde0ef"
            ],
            [
             0.5,
             "#f7f7f7"
            ],
            [
             0.6,
             "#e6f5d0"
            ],
            [
             0.7,
             "#b8e186"
            ],
            [
             0.8,
             "#7fbc41"
            ],
            [
             0.9,
             "#4d9221"
            ],
            [
             1,
             "#276419"
            ]
           ],
           "sequential": [
            [
             0,
             "#0d0887"
            ],
            [
             0.1111111111111111,
             "#46039f"
            ],
            [
             0.2222222222222222,
             "#7201a8"
            ],
            [
             0.3333333333333333,
             "#9c179e"
            ],
            [
             0.4444444444444444,
             "#bd3786"
            ],
            [
             0.5555555555555556,
             "#d8576b"
            ],
            [
             0.6666666666666666,
             "#ed7953"
            ],
            [
             0.7777777777777778,
             "#fb9f3a"
            ],
            [
             0.8888888888888888,
             "#fdca26"
            ],
            [
             1,
             "#f0f921"
            ]
           ],
           "sequentialminus": [
            [
             0,
             "#0d0887"
            ],
            [
             0.1111111111111111,
             "#46039f"
            ],
            [
             0.2222222222222222,
             "#7201a8"
            ],
            [
             0.3333333333333333,
             "#9c179e"
            ],
            [
             0.4444444444444444,
             "#bd3786"
            ],
            [
             0.5555555555555556,
             "#d8576b"
            ],
            [
             0.6666666666666666,
             "#ed7953"
            ],
            [
             0.7777777777777778,
             "#fb9f3a"
            ],
            [
             0.8888888888888888,
             "#fdca26"
            ],
            [
             1,
             "#f0f921"
            ]
           ]
          },
          "colorway": [
           "#636efa",
           "#EF553B",
           "#00cc96",
           "#ab63fa",
           "#FFA15A",
           "#19d3f3",
           "#FF6692",
           "#B6E880",
           "#FF97FF",
           "#FECB52"
          ],
          "font": {
           "color": "#2a3f5f"
          },
          "geo": {
           "bgcolor": "white",
           "lakecolor": "white",
           "landcolor": "#E5ECF6",
           "showlakes": true,
           "showland": true,
           "subunitcolor": "white"
          },
          "hoverlabel": {
           "align": "left"
          },
          "hovermode": "closest",
          "mapbox": {
           "style": "light"
          },
          "paper_bgcolor": "white",
          "plot_bgcolor": "#E5ECF6",
          "polar": {
           "angularaxis": {
            "gridcolor": "white",
            "linecolor": "white",
            "ticks": ""
           },
           "bgcolor": "#E5ECF6",
           "radialaxis": {
            "gridcolor": "white",
            "linecolor": "white",
            "ticks": ""
           }
          },
          "scene": {
           "xaxis": {
            "backgroundcolor": "#E5ECF6",
            "gridcolor": "white",
            "gridwidth": 2,
            "linecolor": "white",
            "showbackground": true,
            "ticks": "",
            "zerolinecolor": "white"
           },
           "yaxis": {
            "backgroundcolor": "#E5ECF6",
            "gridcolor": "white",
            "gridwidth": 2,
            "linecolor": "white",
            "showbackground": true,
            "ticks": "",
            "zerolinecolor": "white"
           },
           "zaxis": {
            "backgroundcolor": "#E5ECF6",
            "gridcolor": "white",
            "gridwidth": 2,
            "linecolor": "white",
            "showbackground": true,
            "ticks": "",
            "zerolinecolor": "white"
           }
          },
          "shapedefaults": {
           "line": {
            "color": "#2a3f5f"
           }
          },
          "ternary": {
           "aaxis": {
            "gridcolor": "white",
            "linecolor": "white",
            "ticks": ""
           },
           "baxis": {
            "gridcolor": "white",
            "linecolor": "white",
            "ticks": ""
           },
           "bgcolor": "#E5ECF6",
           "caxis": {
            "gridcolor": "white",
            "linecolor": "white",
            "ticks": ""
           }
          },
          "title": {
           "x": 0.05
          },
          "xaxis": {
           "automargin": true,
           "gridcolor": "white",
           "linecolor": "white",
           "ticks": "",
           "title": {
            "standoff": 15
           },
           "zerolinecolor": "white",
           "zerolinewidth": 2
          },
          "yaxis": {
           "automargin": true,
           "gridcolor": "white",
           "linecolor": "white",
           "ticks": "",
           "title": {
            "standoff": 15
           },
           "zerolinecolor": "white",
           "zerolinewidth": 2
          }
         }
        },
        "title": {
         "text": "Scatter for two feature model"
        },
        "width": 800,
        "xaxis": {
         "title": {
          "text": "petal length (cm)"
         }
        },
        "yaxis": {
         "title": {
          "text": "petal width (cm)"
         }
        }
       }
      }
     },
     "metadata": {},
     "output_type": "display_data"
    }
   ],
   "source": [
    "y_pred = np.array(result_pds[1]['Prediction'])\n",
    "y_virginica = x_val[y_pred == 1, : ]\n",
    "y_non_virginica = x_val[y_pred == 0, : ]\n",
    "\n",
    "features = x_val[:, 2:4]\n",
    "virginica = features[y_pred == 1, :]\n",
    "non_virginica = features[y_pred == 0, :]\n",
    "\n",
    "trace0 = go.Scatter(x=virginica[:, 0], y=virginica[:, 1], mode='markers', marker=dict(color='red'), name='Virginica')\n",
    "trace1 = go.Scatter(x=non_virginica[:, 1], y=non_virginica[:, 1], mode='markers', marker=dict(color='black'), name='Non-Virginica')\n",
    "\n",
    "x_min, x_max = features[:, 0].min() - 1, features[:, 0].max() + 1\n",
    "y_min, y_max = features[:, 1].min() - 1, features[:, 1].max() + 1\n",
    "\n",
    "random_x = np.linspace(x_min, x_max, 100)\n",
    "random_y = -models[1].intercept_ / models[1].coef_[0][1] - models[1].coef_[0][0] / models[1].coef_[0][1] * random_x\n",
    "\n",
    "trace2 = go.Scatter(x=random_x, y=random_y, mode='lines', name='Decision Boundary')\n",
    "\n",
    "layout = go.Layout(title='Scatter for two feature model',\n",
    "                   xaxis=dict(title='petal length (cm)'),\n",
    "                   yaxis=dict(title='petal width (cm)'),\n",
    "                   showlegend=True, width=800, height=600)\n",
    "\n",
    "fig = go.Figure(data=[trace0, trace1, trace2], layout=layout)\n",
    "fig.show()"
   ]
  },
  {
   "cell_type": "markdown",
   "metadata": {},
   "source": [
    "**Three features model graph**"
   ]
  },
  {
   "cell_type": "code",
   "execution_count": 88,
   "metadata": {},
   "outputs": [
    {
     "data": {
      "application/vnd.plotly.v1+json": {
       "config": {
        "plotlyServerURL": "https://plot.ly"
       },
       "data": [
        {
         "marker": {
          "color": "red"
         },
         "mode": "markers",
         "name": "Virginica",
         "type": "scatter3d",
         "x": [
          5,
          5.7,
          7.7,
          6.7,
          6,
          6.1,
          6.7,
          5.7,
          4.8,
          4.7,
          6.9,
          6.5,
          5.1,
          6.4,
          5.6
         ],
         "y": [
          1.6,
          1.7,
          6.9,
          5.2,
          4.5,
          4.9,
          5.8,
          4.5,
          1.6,
          1.6,
          5.1,
          5.1,
          1.5,
          5.6,
          3.6
         ],
         "z": [
          0.4,
          0.3,
          2.3,
          2.3,
          1.5,
          1.8,
          1.8,
          1.3,
          0.2,
          0.2,
          2.3,
          2,
          0.3,
          2.2,
          1.3
         ]
        },
        {
         "marker": {
          "color": "black"
         },
         "mode": "markers",
         "name": "Non-Virginica",
         "type": "scatter3d",
         "x": [],
         "y": [],
         "z": []
        },
        {
         "colorscale": [
          [
           0,
           "lightgray"
          ],
          [
           1,
           "lightgray"
          ]
         ],
         "name": "Decision Boundary",
         "opacity": 0.5,
         "showscale": false,
         "surfacecolor": [
          [
           6.515341102540549,
           6.3407727868978165,
           6.166204471255084,
           5.991636155612351,
           5.817067839969619,
           5.642499524326886,
           5.467931208684154,
           5.293362893041421,
           5.118794577398689,
           4.944226261755957
          ],
          [
           4.531874224181604,
           4.357305908538872,
           4.18273759289614,
           4.0081692772534065,
           3.8336009616106743,
           3.659032645967941,
           3.484464330325209,
           3.3098960146824767,
           3.1353276990397445,
           2.9607593833970123
          ],
          [
           2.5484073458226595,
           2.3738390301799273,
           2.199270714537195,
           2.024702398894462,
           1.8501340832517297,
           1.6755657676089966,
           1.5009974519662643,
           1.326429136323532,
           1.1518608206807999,
           0.9772925050380676
          ],
          [
           0.5649404674637166,
           0.3903721518209844,
           0.21580383617825216,
           0.041235520535519044,
           -0.1333327951072132,
           -0.3079011107499463,
           -0.48246942639267854,
           -0.6570377420354108,
           -0.831606057678143,
           -1.0061743733208752
          ],
          [
           -1.4185264108952271,
           -1.5930947265379594,
           -1.7676630421806916,
           -1.9422313578234247,
           -2.116799673466157,
           -2.29136798910889,
           -2.4659363047516223,
           -2.6405046203943545,
           -2.8150729360370867,
           -2.989641251679819
          ],
          [
           -3.4019932892541718,
           -3.576561604896904,
           -3.7511299205396362,
           -3.9256982361823693,
           -4.100266551825102,
           -4.274834867467835,
           -4.449403183110567,
           -4.623971498753299,
           -4.798539814396031,
           -4.973108130038764
          ],
          [
           -5.385460167613116,
           -5.560028483255849,
           -5.734596798898581,
           -5.909165114541314,
           -6.083733430184046,
           -6.258301745826779,
           -6.432870061469512,
           -6.607438377112244,
           -6.782006692754976,
           -6.956575008397708
          ],
          [
           -7.368927045972061,
           -7.543495361614793,
           -7.7180636772575255,
           -7.892631992900259,
           -8.06720030854299,
           -8.241768624185724,
           -8.416336939828456,
           -8.590905255471188,
           -8.76547357111392,
           -8.940041886756653
          ],
          [
           -9.352393924331006,
           -9.526962239973738,
           -9.70153055561647,
           -9.876098871259202,
           -10.050667186901936,
           -10.225235502544669,
           -10.3998038181874,
           -10.574372133830133,
           -10.748940449472865,
           -10.923508765115598
          ],
          [
           -11.335860802689949,
           -11.51042911833268,
           -11.684997433975413,
           -11.859565749618145,
           -12.03413406526088,
           -12.208702380903611,
           -12.383270696546344,
           -12.557839012189076,
           -12.732407327831808,
           -12.90697564347454
          ]
         ],
         "type": "surface",
         "x": [
          [
           3.7,
           4.2555555555555555,
           4.811111111111111,
           5.366666666666667,
           5.9222222222222225,
           6.477777777777778,
           7.033333333333333,
           7.588888888888889,
           8.144444444444444,
           8.7
          ],
          [
           3.7,
           4.2555555555555555,
           4.811111111111111,
           5.366666666666667,
           5.9222222222222225,
           6.477777777777778,
           7.033333333333333,
           7.588888888888889,
           8.144444444444444,
           8.7
          ],
          [
           3.7,
           4.2555555555555555,
           4.811111111111111,
           5.366666666666667,
           5.9222222222222225,
           6.477777777777778,
           7.033333333333333,
           7.588888888888889,
           8.144444444444444,
           8.7
          ],
          [
           3.7,
           4.2555555555555555,
           4.811111111111111,
           5.366666666666667,
           5.9222222222222225,
           6.477777777777778,
           7.033333333333333,
           7.588888888888889,
           8.144444444444444,
           8.7
          ],
          [
           3.7,
           4.2555555555555555,
           4.811111111111111,
           5.366666666666667,
           5.9222222222222225,
           6.477777777777778,
           7.033333333333333,
           7.588888888888889,
           8.144444444444444,
           8.7
          ],
          [
           3.7,
           4.2555555555555555,
           4.811111111111111,
           5.366666666666667,
           5.9222222222222225,
           6.477777777777778,
           7.033333333333333,
           7.588888888888889,
           8.144444444444444,
           8.7
          ],
          [
           3.7,
           4.2555555555555555,
           4.811111111111111,
           5.366666666666667,
           5.9222222222222225,
           6.477777777777778,
           7.033333333333333,
           7.588888888888889,
           8.144444444444444,
           8.7
          ],
          [
           3.7,
           4.2555555555555555,
           4.811111111111111,
           5.366666666666667,
           5.9222222222222225,
           6.477777777777778,
           7.033333333333333,
           7.588888888888889,
           8.144444444444444,
           8.7
          ],
          [
           3.7,
           4.2555555555555555,
           4.811111111111111,
           5.366666666666667,
           5.9222222222222225,
           6.477777777777778,
           7.033333333333333,
           7.588888888888889,
           8.144444444444444,
           8.7
          ],
          [
           3.7,
           4.2555555555555555,
           4.811111111111111,
           5.366666666666667,
           5.9222222222222225,
           6.477777777777778,
           7.033333333333333,
           7.588888888888889,
           8.144444444444444,
           8.7
          ]
         ],
         "y": [
          [
           0.5,
           0.5,
           0.5,
           0.5,
           0.5,
           0.5,
           0.5,
           0.5,
           0.5,
           0.5
          ],
          [
           1.3222222222222224,
           1.3222222222222224,
           1.3222222222222224,
           1.3222222222222224,
           1.3222222222222224,
           1.3222222222222224,
           1.3222222222222224,
           1.3222222222222224,
           1.3222222222222224,
           1.3222222222222224
          ],
          [
           2.144444444444445,
           2.144444444444445,
           2.144444444444445,
           2.144444444444445,
           2.144444444444445,
           2.144444444444445,
           2.144444444444445,
           2.144444444444445,
           2.144444444444445,
           2.144444444444445
          ],
          [
           2.966666666666667,
           2.966666666666667,
           2.966666666666667,
           2.966666666666667,
           2.966666666666667,
           2.966666666666667,
           2.966666666666667,
           2.966666666666667,
           2.966666666666667,
           2.966666666666667
          ],
          [
           3.788888888888889,
           3.788888888888889,
           3.788888888888889,
           3.788888888888889,
           3.788888888888889,
           3.788888888888889,
           3.788888888888889,
           3.788888888888889,
           3.788888888888889,
           3.788888888888889
          ],
          [
           4.611111111111112,
           4.611111111111112,
           4.611111111111112,
           4.611111111111112,
           4.611111111111112,
           4.611111111111112,
           4.611111111111112,
           4.611111111111112,
           4.611111111111112,
           4.611111111111112
          ],
          [
           5.433333333333334,
           5.433333333333334,
           5.433333333333334,
           5.433333333333334,
           5.433333333333334,
           5.433333333333334,
           5.433333333333334,
           5.433333333333334,
           5.433333333333334,
           5.433333333333334
          ],
          [
           6.255555555555556,
           6.255555555555556,
           6.255555555555556,
           6.255555555555556,
           6.255555555555556,
           6.255555555555556,
           6.255555555555556,
           6.255555555555556,
           6.255555555555556,
           6.255555555555556
          ],
          [
           7.077777777777778,
           7.077777777777778,
           7.077777777777778,
           7.077777777777778,
           7.077777777777778,
           7.077777777777778,
           7.077777777777778,
           7.077777777777778,
           7.077777777777778,
           7.077777777777778
          ],
          [
           7.9,
           7.9,
           7.9,
           7.9,
           7.9,
           7.9,
           7.9,
           7.9,
           7.9,
           7.9
          ]
         ],
         "z": [
          [
           6.515341102540549,
           6.3407727868978165,
           6.166204471255084,
           5.991636155612351,
           5.817067839969619,
           5.642499524326886,
           5.467931208684154,
           5.293362893041421,
           5.118794577398689,
           4.944226261755957
          ],
          [
           4.531874224181604,
           4.357305908538872,
           4.18273759289614,
           4.0081692772534065,
           3.8336009616106743,
           3.659032645967941,
           3.484464330325209,
           3.3098960146824767,
           3.1353276990397445,
           2.9607593833970123
          ],
          [
           2.5484073458226595,
           2.3738390301799273,
           2.199270714537195,
           2.024702398894462,
           1.8501340832517297,
           1.6755657676089966,
           1.5009974519662643,
           1.326429136323532,
           1.1518608206807999,
           0.9772925050380676
          ],
          [
           0.5649404674637166,
           0.3903721518209844,
           0.21580383617825216,
           0.041235520535519044,
           -0.1333327951072132,
           -0.3079011107499463,
           -0.48246942639267854,
           -0.6570377420354108,
           -0.831606057678143,
           -1.0061743733208752
          ],
          [
           -1.4185264108952271,
           -1.5930947265379594,
           -1.7676630421806916,
           -1.9422313578234247,
           -2.116799673466157,
           -2.29136798910889,
           -2.4659363047516223,
           -2.6405046203943545,
           -2.8150729360370867,
           -2.989641251679819
          ],
          [
           -3.4019932892541718,
           -3.576561604896904,
           -3.7511299205396362,
           -3.9256982361823693,
           -4.100266551825102,
           -4.274834867467835,
           -4.449403183110567,
           -4.623971498753299,
           -4.798539814396031,
           -4.973108130038764
          ],
          [
           -5.385460167613116,
           -5.560028483255849,
           -5.734596798898581,
           -5.909165114541314,
           -6.083733430184046,
           -6.258301745826779,
           -6.432870061469512,
           -6.607438377112244,
           -6.782006692754976,
           -6.956575008397708
          ],
          [
           -7.368927045972061,
           -7.543495361614793,
           -7.7180636772575255,
           -7.892631992900259,
           -8.06720030854299,
           -8.241768624185724,
           -8.416336939828456,
           -8.590905255471188,
           -8.76547357111392,
           -8.940041886756653
          ],
          [
           -9.352393924331006,
           -9.526962239973738,
           -9.70153055561647,
           -9.876098871259202,
           -10.050667186901936,
           -10.225235502544669,
           -10.3998038181874,
           -10.574372133830133,
           -10.748940449472865,
           -10.923508765115598
          ],
          [
           -11.335860802689949,
           -11.51042911833268,
           -11.684997433975413,
           -11.859565749618145,
           -12.03413406526088,
           -12.208702380903611,
           -12.383270696546344,
           -12.557839012189076,
           -12.732407327831808,
           -12.90697564347454
          ]
         ]
        }
       ],
       "layout": {
        "height": 600,
        "scene": {
         "xaxis": {
          "title": {
           "text": "sepal length (cm)"
          }
         },
         "yaxis": {
          "title": {
           "text": "petal length (cm)"
          }
         },
         "zaxis": {
          "title": {
           "text": "petal width (cm)"
          }
         }
        },
        "showlegend": true,
        "template": {
         "data": {
          "bar": [
           {
            "error_x": {
             "color": "#2a3f5f"
            },
            "error_y": {
             "color": "#2a3f5f"
            },
            "marker": {
             "line": {
              "color": "#E5ECF6",
              "width": 0.5
             },
             "pattern": {
              "fillmode": "overlay",
              "size": 10,
              "solidity": 0.2
             }
            },
            "type": "bar"
           }
          ],
          "barpolar": [
           {
            "marker": {
             "line": {
              "color": "#E5ECF6",
              "width": 0.5
             },
             "pattern": {
              "fillmode": "overlay",
              "size": 10,
              "solidity": 0.2
             }
            },
            "type": "barpolar"
           }
          ],
          "carpet": [
           {
            "aaxis": {
             "endlinecolor": "#2a3f5f",
             "gridcolor": "white",
             "linecolor": "white",
             "minorgridcolor": "white",
             "startlinecolor": "#2a3f5f"
            },
            "baxis": {
             "endlinecolor": "#2a3f5f",
             "gridcolor": "white",
             "linecolor": "white",
             "minorgridcolor": "white",
             "startlinecolor": "#2a3f5f"
            },
            "type": "carpet"
           }
          ],
          "choropleth": [
           {
            "colorbar": {
             "outlinewidth": 0,
             "ticks": ""
            },
            "type": "choropleth"
           }
          ],
          "contour": [
           {
            "colorbar": {
             "outlinewidth": 0,
             "ticks": ""
            },
            "colorscale": [
             [
              0,
              "#0d0887"
             ],
             [
              0.1111111111111111,
              "#46039f"
             ],
             [
              0.2222222222222222,
              "#7201a8"
             ],
             [
              0.3333333333333333,
              "#9c179e"
             ],
             [
              0.4444444444444444,
              "#bd3786"
             ],
             [
              0.5555555555555556,
              "#d8576b"
             ],
             [
              0.6666666666666666,
              "#ed7953"
             ],
             [
              0.7777777777777778,
              "#fb9f3a"
             ],
             [
              0.8888888888888888,
              "#fdca26"
             ],
             [
              1,
              "#f0f921"
             ]
            ],
            "type": "contour"
           }
          ],
          "contourcarpet": [
           {
            "colorbar": {
             "outlinewidth": 0,
             "ticks": ""
            },
            "type": "contourcarpet"
           }
          ],
          "heatmap": [
           {
            "colorbar": {
             "outlinewidth": 0,
             "ticks": ""
            },
            "colorscale": [
             [
              0,
              "#0d0887"
             ],
             [
              0.1111111111111111,
              "#46039f"
             ],
             [
              0.2222222222222222,
              "#7201a8"
             ],
             [
              0.3333333333333333,
              "#9c179e"
             ],
             [
              0.4444444444444444,
              "#bd3786"
             ],
             [
              0.5555555555555556,
              "#d8576b"
             ],
             [
              0.6666666666666666,
              "#ed7953"
             ],
             [
              0.7777777777777778,
              "#fb9f3a"
             ],
             [
              0.8888888888888888,
              "#fdca26"
             ],
             [
              1,
              "#f0f921"
             ]
            ],
            "type": "heatmap"
           }
          ],
          "heatmapgl": [
           {
            "colorbar": {
             "outlinewidth": 0,
             "ticks": ""
            },
            "colorscale": [
             [
              0,
              "#0d0887"
             ],
             [
              0.1111111111111111,
              "#46039f"
             ],
             [
              0.2222222222222222,
              "#7201a8"
             ],
             [
              0.3333333333333333,
              "#9c179e"
             ],
             [
              0.4444444444444444,
              "#bd3786"
             ],
             [
              0.5555555555555556,
              "#d8576b"
             ],
             [
              0.6666666666666666,
              "#ed7953"
             ],
             [
              0.7777777777777778,
              "#fb9f3a"
             ],
             [
              0.8888888888888888,
              "#fdca26"
             ],
             [
              1,
              "#f0f921"
             ]
            ],
            "type": "heatmapgl"
           }
          ],
          "histogram": [
           {
            "marker": {
             "pattern": {
              "fillmode": "overlay",
              "size": 10,
              "solidity": 0.2
             }
            },
            "type": "histogram"
           }
          ],
          "histogram2d": [
           {
            "colorbar": {
             "outlinewidth": 0,
             "ticks": ""
            },
            "colorscale": [
             [
              0,
              "#0d0887"
             ],
             [
              0.1111111111111111,
              "#46039f"
             ],
             [
              0.2222222222222222,
              "#7201a8"
             ],
             [
              0.3333333333333333,
              "#9c179e"
             ],
             [
              0.4444444444444444,
              "#bd3786"
             ],
             [
              0.5555555555555556,
              "#d8576b"
             ],
             [
              0.6666666666666666,
              "#ed7953"
             ],
             [
              0.7777777777777778,
              "#fb9f3a"
             ],
             [
              0.8888888888888888,
              "#fdca26"
             ],
             [
              1,
              "#f0f921"
             ]
            ],
            "type": "histogram2d"
           }
          ],
          "histogram2dcontour": [
           {
            "colorbar": {
             "outlinewidth": 0,
             "ticks": ""
            },
            "colorscale": [
             [
              0,
              "#0d0887"
             ],
             [
              0.1111111111111111,
              "#46039f"
             ],
             [
              0.2222222222222222,
              "#7201a8"
             ],
             [
              0.3333333333333333,
              "#9c179e"
             ],
             [
              0.4444444444444444,
              "#bd3786"
             ],
             [
              0.5555555555555556,
              "#d8576b"
             ],
             [
              0.6666666666666666,
              "#ed7953"
             ],
             [
              0.7777777777777778,
              "#fb9f3a"
             ],
             [
              0.8888888888888888,
              "#fdca26"
             ],
             [
              1,
              "#f0f921"
             ]
            ],
            "type": "histogram2dcontour"
           }
          ],
          "mesh3d": [
           {
            "colorbar": {
             "outlinewidth": 0,
             "ticks": ""
            },
            "type": "mesh3d"
           }
          ],
          "parcoords": [
           {
            "line": {
             "colorbar": {
              "outlinewidth": 0,
              "ticks": ""
             }
            },
            "type": "parcoords"
           }
          ],
          "pie": [
           {
            "automargin": true,
            "type": "pie"
           }
          ],
          "scatter": [
           {
            "fillpattern": {
             "fillmode": "overlay",
             "size": 10,
             "solidity": 0.2
            },
            "type": "scatter"
           }
          ],
          "scatter3d": [
           {
            "line": {
             "colorbar": {
              "outlinewidth": 0,
              "ticks": ""
             }
            },
            "marker": {
             "colorbar": {
              "outlinewidth": 0,
              "ticks": ""
             }
            },
            "type": "scatter3d"
           }
          ],
          "scattercarpet": [
           {
            "marker": {
             "colorbar": {
              "outlinewidth": 0,
              "ticks": ""
             }
            },
            "type": "scattercarpet"
           }
          ],
          "scattergeo": [
           {
            "marker": {
             "colorbar": {
              "outlinewidth": 0,
              "ticks": ""
             }
            },
            "type": "scattergeo"
           }
          ],
          "scattergl": [
           {
            "marker": {
             "colorbar": {
              "outlinewidth": 0,
              "ticks": ""
             }
            },
            "type": "scattergl"
           }
          ],
          "scattermapbox": [
           {
            "marker": {
             "colorbar": {
              "outlinewidth": 0,
              "ticks": ""
             }
            },
            "type": "scattermapbox"
           }
          ],
          "scatterpolar": [
           {
            "marker": {
             "colorbar": {
              "outlinewidth": 0,
              "ticks": ""
             }
            },
            "type": "scatterpolar"
           }
          ],
          "scatterpolargl": [
           {
            "marker": {
             "colorbar": {
              "outlinewidth": 0,
              "ticks": ""
             }
            },
            "type": "scatterpolargl"
           }
          ],
          "scatterternary": [
           {
            "marker": {
             "colorbar": {
              "outlinewidth": 0,
              "ticks": ""
             }
            },
            "type": "scatterternary"
           }
          ],
          "surface": [
           {
            "colorbar": {
             "outlinewidth": 0,
             "ticks": ""
            },
            "colorscale": [
             [
              0,
              "#0d0887"
             ],
             [
              0.1111111111111111,
              "#46039f"
             ],
             [
              0.2222222222222222,
              "#7201a8"
             ],
             [
              0.3333333333333333,
              "#9c179e"
             ],
             [
              0.4444444444444444,
              "#bd3786"
             ],
             [
              0.5555555555555556,
              "#d8576b"
             ],
             [
              0.6666666666666666,
              "#ed7953"
             ],
             [
              0.7777777777777778,
              "#fb9f3a"
             ],
             [
              0.8888888888888888,
              "#fdca26"
             ],
             [
              1,
              "#f0f921"
             ]
            ],
            "type": "surface"
           }
          ],
          "table": [
           {
            "cells": {
             "fill": {
              "color": "#EBF0F8"
             },
             "line": {
              "color": "white"
             }
            },
            "header": {
             "fill": {
              "color": "#C8D4E3"
             },
             "line": {
              "color": "white"
             }
            },
            "type": "table"
           }
          ]
         },
         "layout": {
          "annotationdefaults": {
           "arrowcolor": "#2a3f5f",
           "arrowhead": 0,
           "arrowwidth": 1
          },
          "autotypenumbers": "strict",
          "coloraxis": {
           "colorbar": {
            "outlinewidth": 0,
            "ticks": ""
           }
          },
          "colorscale": {
           "diverging": [
            [
             0,
             "#8e0152"
            ],
            [
             0.1,
             "#c51b7d"
            ],
            [
             0.2,
             "#de77ae"
            ],
            [
             0.3,
             "#f1b6da"
            ],
            [
             0.4,
             "#fde0ef"
            ],
            [
             0.5,
             "#f7f7f7"
            ],
            [
             0.6,
             "#e6f5d0"
            ],
            [
             0.7,
             "#b8e186"
            ],
            [
             0.8,
             "#7fbc41"
            ],
            [
             0.9,
             "#4d9221"
            ],
            [
             1,
             "#276419"
            ]
           ],
           "sequential": [
            [
             0,
             "#0d0887"
            ],
            [
             0.1111111111111111,
             "#46039f"
            ],
            [
             0.2222222222222222,
             "#7201a8"
            ],
            [
             0.3333333333333333,
             "#9c179e"
            ],
            [
             0.4444444444444444,
             "#bd3786"
            ],
            [
             0.5555555555555556,
             "#d8576b"
            ],
            [
             0.6666666666666666,
             "#ed7953"
            ],
            [
             0.7777777777777778,
             "#fb9f3a"
            ],
            [
             0.8888888888888888,
             "#fdca26"
            ],
            [
             1,
             "#f0f921"
            ]
           ],
           "sequentialminus": [
            [
             0,
             "#0d0887"
            ],
            [
             0.1111111111111111,
             "#46039f"
            ],
            [
             0.2222222222222222,
             "#7201a8"
            ],
            [
             0.3333333333333333,
             "#9c179e"
            ],
            [
             0.4444444444444444,
             "#bd3786"
            ],
            [
             0.5555555555555556,
             "#d8576b"
            ],
            [
             0.6666666666666666,
             "#ed7953"
            ],
            [
             0.7777777777777778,
             "#fb9f3a"
            ],
            [
             0.8888888888888888,
             "#fdca26"
            ],
            [
             1,
             "#f0f921"
            ]
           ]
          },
          "colorway": [
           "#636efa",
           "#EF553B",
           "#00cc96",
           "#ab63fa",
           "#FFA15A",
           "#19d3f3",
           "#FF6692",
           "#B6E880",
           "#FF97FF",
           "#FECB52"
          ],
          "font": {
           "color": "#2a3f5f"
          },
          "geo": {
           "bgcolor": "white",
           "lakecolor": "white",
           "landcolor": "#E5ECF6",
           "showlakes": true,
           "showland": true,
           "subunitcolor": "white"
          },
          "hoverlabel": {
           "align": "left"
          },
          "hovermode": "closest",
          "mapbox": {
           "style": "light"
          },
          "paper_bgcolor": "white",
          "plot_bgcolor": "#E5ECF6",
          "polar": {
           "angularaxis": {
            "gridcolor": "white",
            "linecolor": "white",
            "ticks": ""
           },
           "bgcolor": "#E5ECF6",
           "radialaxis": {
            "gridcolor": "white",
            "linecolor": "white",
            "ticks": ""
           }
          },
          "scene": {
           "xaxis": {
            "backgroundcolor": "#E5ECF6",
            "gridcolor": "white",
            "gridwidth": 2,
            "linecolor": "white",
            "showbackground": true,
            "ticks": "",
            "zerolinecolor": "white"
           },
           "yaxis": {
            "backgroundcolor": "#E5ECF6",
            "gridcolor": "white",
            "gridwidth": 2,
            "linecolor": "white",
            "showbackground": true,
            "ticks": "",
            "zerolinecolor": "white"
           },
           "zaxis": {
            "backgroundcolor": "#E5ECF6",
            "gridcolor": "white",
            "gridwidth": 2,
            "linecolor": "white",
            "showbackground": true,
            "ticks": "",
            "zerolinecolor": "white"
           }
          },
          "shapedefaults": {
           "line": {
            "color": "#2a3f5f"
           }
          },
          "ternary": {
           "aaxis": {
            "gridcolor": "white",
            "linecolor": "white",
            "ticks": ""
           },
           "baxis": {
            "gridcolor": "white",
            "linecolor": "white",
            "ticks": ""
           },
           "bgcolor": "#E5ECF6",
           "caxis": {
            "gridcolor": "white",
            "linecolor": "white",
            "ticks": ""
           }
          },
          "title": {
           "x": 0.05
          },
          "xaxis": {
           "automargin": true,
           "gridcolor": "white",
           "linecolor": "white",
           "ticks": "",
           "title": {
            "standoff": 15
           },
           "zerolinecolor": "white",
           "zerolinewidth": 2
          },
          "yaxis": {
           "automargin": true,
           "gridcolor": "white",
           "linecolor": "white",
           "ticks": "",
           "title": {
            "standoff": 15
           },
           "zerolinecolor": "white",
           "zerolinewidth": 2
          }
         }
        },
        "title": {
         "text": "Scatter for three feature model"
        },
        "width": 800
       }
      }
     },
     "metadata": {},
     "output_type": "display_data"
    }
   ],
   "source": [
    "y_pred = np.array(result_pds[0]['Prediction'])\n",
    "y_virginica = x_val[y_pred == 1, : ]\n",
    "y_non_virginica = x_val[y_pred == 0, : ]\n",
    "\n",
    "features = np.delete(x_val, [1], axis=1)\n",
    "virginica = features[y_pred == 1, :]\n",
    "non_virginica = features[y_pred == 0, :]\n",
    "\n",
    "trace0 = go.Scatter3d(x=virginica[:, 0], y=virginica[:, 1], z=virginica[:, 2], mode='markers', marker=dict(color='red'), name='Virginica')\n",
    "trace1 = go.Scatter3d(x=non_virginica[:, 1], y=non_virginica[:, 1], z=non_virginica[:, 2], mode='markers', marker=dict(color='black'), name='Non-Virginica')\n",
    "\n",
    "x_min, x_max = features[:, 0].min() - 1, features[:, 0].max() + 1\n",
    "y_min, y_max = features[:, 1].min() - 1, features[:, 1].max() + 1\n",
    "z_min, z_max = features[:, 2].min() - 1, features[:, 2].max() + 1\n",
    "\n",
    "random_x, random_y = np.meshgrid(np.linspace(x_min, x_max, 10), np.linspace(y_min, y_max, 10))\n",
    "random_z = -models[2].intercept_ / models[2].coef_[0][2] - models[2].coef_[0][0] / models[2].coef_[0][2] * random_x - models[2].coef_[0][1] / models[2].coef_[0][2] * random_y\n",
    "\n",
    "trace2 = go.Surface(x=random_x, y=random_y, z=random_z, surfacecolor=random_z, colorscale=[[0, 'lightgray'], [1, 'lightgray']], opacity=0.5, showscale=False, name='Decision Boundary')\n",
    "\n",
    "layout = go.Layout(title='Scatter for three feature model',\n",
    "                   scene=dict(xaxis=dict(title='sepal length (cm)'),\n",
    "                              yaxis=dict(title='petal length (cm)'),\n",
    "                              zaxis=dict(title='petal width (cm)')),\n",
    "                   showlegend=True, width=800, height=600)\n",
    "\n",
    "fig = go.Figure(data=[trace0, trace1, trace2], layout=layout)\n",
    "fig.show()"
   ]
  },
  {
   "cell_type": "markdown",
   "metadata": {},
   "source": [
    "### 11. Failure models\n",
    "According to the above graphs, the three models with significant prediction errors all have an accuracy of 66%."
   ]
  },
  {
   "cell_type": "markdown",
   "metadata": {},
   "source": [
    "### 12. Best Models\n",
    "According to the test results in this report, the model with 4 features is the best one."
   ]
  }
 ],
 "metadata": {
  "kernelspec": {
   "display_name": "Python 3",
   "language": "python",
   "name": "python3"
  },
  "language_info": {
   "codemirror_mode": {
    "name": "ipython",
    "version": 3
   },
   "file_extension": ".py",
   "mimetype": "text/x-python",
   "name": "python",
   "nbconvert_exporter": "python",
   "pygments_lexer": "ipython3",
   "version": "3.11.7"
  }
 },
 "nbformat": 4,
 "nbformat_minor": 2
}
